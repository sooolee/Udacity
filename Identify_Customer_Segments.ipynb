{
 "cells": [
  {
   "cell_type": "markdown",
   "metadata": {},
   "source": [
    "# Project: Identify Customer Segments\n",
    "\n",
    "In this project, you will apply unsupervised learning techniques to identify segments of the population that form the core customer base for a mail-order sales company in Germany. These segments can then be used to direct marketing campaigns towards audiences that will have the highest expected rate of returns. The data that you will use has been provided by our partners at Bertelsmann Arvato Analytics, and represents a real-life data science task.\n",
    "\n",
    "This notebook will help you complete this task by providing a framework within which you will perform your analysis steps. In each step of the project, you will see some text describing the subtask that you will perform, followed by one or more code cells for you to complete your work. **Feel free to add additional code and markdown cells as you go along so that you can explore everything in precise chunks.** The code cells provided in the base template will outline only the major tasks, and will usually not be enough to cover all of the minor tasks that comprise it.\n",
    "\n",
    "It should be noted that while there will be precise guidelines on how you should handle certain tasks in the project, there will also be places where an exact specification is not provided. **There will be times in the project where you will need to make and justify your own decisions on how to treat the data.** These are places where there may not be only one way to handle the data. In real-life tasks, there may be many valid ways to approach an analysis task. One of the most important things you can do is clearly document your approach so that other scientists can understand the decisions you've made.\n",
    "\n",
    "At the end of most sections, there will be a Markdown cell labeled **Discussion**. In these cells, you will report your findings for the completed section, as well as document the decisions that you made in your approach to each subtask. **Your project will be evaluated not just on the code used to complete the tasks outlined, but also your communication about your observations and conclusions at each stage.**"
   ]
  },
  {
   "cell_type": "code",
   "execution_count": 1,
   "metadata": {},
   "outputs": [
    {
     "data": {
      "text/plain": [
       "'\\nImport note: The classroom currently uses sklearn version 0.19.\\nIf you need to use an imputer, it is available in sklearn.preprocessing.Imputer,\\ninstead of sklearn.impute as in newer versions of sklearn.\\n'"
      ]
     },
     "execution_count": 1,
     "metadata": {},
     "output_type": "execute_result"
    }
   ],
   "source": [
    "# import libraries here; add more as necessary\n",
    "import numpy as np\n",
    "import pandas as pd\n",
    "import matplotlib.pyplot as plt\n",
    "import seaborn as sns\n",
    "\n",
    "# magic word for producing visualizations in notebook\n",
    "%matplotlib inline\n",
    "\n",
    "'''\n",
    "Import note: The classroom currently uses sklearn version 0.19.\n",
    "If you need to use an imputer, it is available in sklearn.preprocessing.Imputer,\n",
    "instead of sklearn.impute as in newer versions of sklearn.\n",
    "'''"
   ]
  },
  {
   "cell_type": "markdown",
   "metadata": {},
   "source": [
    "### Step 0: Load the Data\n",
    "\n",
    "There are four files associated with this project (not including this one):\n",
    "\n",
    "- `Udacity_AZDIAS_Subset.csv`: Demographics data for the general population of Germany; 891211 persons (rows) x 85 features (columns).\n",
    "- `Udacity_CUSTOMERS_Subset.csv`: Demographics data for customers of a mail-order company; 191652 persons (rows) x 85 features (columns).\n",
    "- `Data_Dictionary.md`: Detailed information file about the features in the provided datasets.\n",
    "- `AZDIAS_Feature_Summary.csv`: Summary of feature attributes for demographics data; 85 features (rows) x 4 columns\n",
    "\n",
    "Each row of the demographics files represents a single person, but also includes information outside of individuals, including information about their household, building, and neighborhood. You will use this information to cluster the general population into groups with similar demographic properties. Then, you will see how the people in the customers dataset fit into those created clusters. The hope here is that certain clusters are over-represented in the customers data, as compared to the general population; those over-represented clusters will be assumed to be part of the core userbase. This information can then be used for further applications, such as targeting for a marketing campaign.\n",
    "\n",
    "To start off with, load in the demographics data for the general population into a pandas DataFrame, and do the same for the feature attributes summary. Note for all of the `.csv` data files in this project: they're semicolon (`;`) delimited, so you'll need an additional argument in your [`read_csv()`](https://pandas.pydata.org/pandas-docs/stable/generated/pandas.read_csv.html) call to read in the data properly. Also, considering the size of the main dataset, it may take some time for it to load completely.\n",
    "\n",
    "Once the dataset is loaded, it's recommended that you take a little bit of time just browsing the general structure of the dataset and feature summary file. You'll be getting deep into the innards of the cleaning in the first major step of the project, so gaining some general familiarity can help you get your bearings."
   ]
  },
  {
   "cell_type": "code",
   "execution_count": 2,
   "metadata": {},
   "outputs": [],
   "source": [
    "# Load in the general demographics data.\n",
    "azdias = pd.read_csv('./Udacity_AZDIAS_Subset.csv', sep=';')\n",
    "\n",
    "# Load in the feature summary file.\n",
    "feat_info = pd.read_csv('./AZDIAS_Feature_Summary.csv', sep=';')"
   ]
  },
  {
   "cell_type": "code",
   "execution_count": 3,
   "metadata": {},
   "outputs": [
    {
     "name": "stdout",
     "output_type": "stream",
     "text": [
      "(891221, 85)\n"
     ]
    },
    {
     "data": {
      "text/html": [
       "<div>\n",
       "<style scoped>\n",
       "    .dataframe tbody tr th:only-of-type {\n",
       "        vertical-align: middle;\n",
       "    }\n",
       "\n",
       "    .dataframe tbody tr th {\n",
       "        vertical-align: top;\n",
       "    }\n",
       "\n",
       "    .dataframe thead th {\n",
       "        text-align: right;\n",
       "    }\n",
       "</style>\n",
       "<table border=\"1\" class=\"dataframe\">\n",
       "  <thead>\n",
       "    <tr style=\"text-align: right;\">\n",
       "      <th></th>\n",
       "      <th>AGER_TYP</th>\n",
       "      <th>ALTERSKATEGORIE_GROB</th>\n",
       "      <th>ANREDE_KZ</th>\n",
       "      <th>CJT_GESAMTTYP</th>\n",
       "      <th>FINANZ_MINIMALIST</th>\n",
       "      <th>FINANZ_SPARER</th>\n",
       "      <th>FINANZ_VORSORGER</th>\n",
       "      <th>FINANZ_ANLEGER</th>\n",
       "      <th>FINANZ_UNAUFFAELLIGER</th>\n",
       "      <th>FINANZ_HAUSBAUER</th>\n",
       "      <th>...</th>\n",
       "      <th>PLZ8_ANTG1</th>\n",
       "      <th>PLZ8_ANTG2</th>\n",
       "      <th>PLZ8_ANTG3</th>\n",
       "      <th>PLZ8_ANTG4</th>\n",
       "      <th>PLZ8_BAUMAX</th>\n",
       "      <th>PLZ8_HHZ</th>\n",
       "      <th>PLZ8_GBZ</th>\n",
       "      <th>ARBEIT</th>\n",
       "      <th>ORTSGR_KLS9</th>\n",
       "      <th>RELAT_AB</th>\n",
       "    </tr>\n",
       "  </thead>\n",
       "  <tbody>\n",
       "    <tr>\n",
       "      <th>0</th>\n",
       "      <td>-1</td>\n",
       "      <td>2</td>\n",
       "      <td>1</td>\n",
       "      <td>2.0</td>\n",
       "      <td>3</td>\n",
       "      <td>4</td>\n",
       "      <td>3</td>\n",
       "      <td>5</td>\n",
       "      <td>5</td>\n",
       "      <td>3</td>\n",
       "      <td>...</td>\n",
       "      <td>NaN</td>\n",
       "      <td>NaN</td>\n",
       "      <td>NaN</td>\n",
       "      <td>NaN</td>\n",
       "      <td>NaN</td>\n",
       "      <td>NaN</td>\n",
       "      <td>NaN</td>\n",
       "      <td>NaN</td>\n",
       "      <td>NaN</td>\n",
       "      <td>NaN</td>\n",
       "    </tr>\n",
       "    <tr>\n",
       "      <th>1</th>\n",
       "      <td>-1</td>\n",
       "      <td>1</td>\n",
       "      <td>2</td>\n",
       "      <td>5.0</td>\n",
       "      <td>1</td>\n",
       "      <td>5</td>\n",
       "      <td>2</td>\n",
       "      <td>5</td>\n",
       "      <td>4</td>\n",
       "      <td>5</td>\n",
       "      <td>...</td>\n",
       "      <td>2.0</td>\n",
       "      <td>3.0</td>\n",
       "      <td>2.0</td>\n",
       "      <td>1.0</td>\n",
       "      <td>1.0</td>\n",
       "      <td>5.0</td>\n",
       "      <td>4.0</td>\n",
       "      <td>3.0</td>\n",
       "      <td>5.0</td>\n",
       "      <td>4.0</td>\n",
       "    </tr>\n",
       "    <tr>\n",
       "      <th>2</th>\n",
       "      <td>-1</td>\n",
       "      <td>3</td>\n",
       "      <td>2</td>\n",
       "      <td>3.0</td>\n",
       "      <td>1</td>\n",
       "      <td>4</td>\n",
       "      <td>1</td>\n",
       "      <td>2</td>\n",
       "      <td>3</td>\n",
       "      <td>5</td>\n",
       "      <td>...</td>\n",
       "      <td>3.0</td>\n",
       "      <td>3.0</td>\n",
       "      <td>1.0</td>\n",
       "      <td>0.0</td>\n",
       "      <td>1.0</td>\n",
       "      <td>4.0</td>\n",
       "      <td>4.0</td>\n",
       "      <td>3.0</td>\n",
       "      <td>5.0</td>\n",
       "      <td>2.0</td>\n",
       "    </tr>\n",
       "    <tr>\n",
       "      <th>3</th>\n",
       "      <td>2</td>\n",
       "      <td>4</td>\n",
       "      <td>2</td>\n",
       "      <td>2.0</td>\n",
       "      <td>4</td>\n",
       "      <td>2</td>\n",
       "      <td>5</td>\n",
       "      <td>2</td>\n",
       "      <td>1</td>\n",
       "      <td>2</td>\n",
       "      <td>...</td>\n",
       "      <td>2.0</td>\n",
       "      <td>2.0</td>\n",
       "      <td>2.0</td>\n",
       "      <td>0.0</td>\n",
       "      <td>1.0</td>\n",
       "      <td>3.0</td>\n",
       "      <td>4.0</td>\n",
       "      <td>2.0</td>\n",
       "      <td>3.0</td>\n",
       "      <td>3.0</td>\n",
       "    </tr>\n",
       "    <tr>\n",
       "      <th>4</th>\n",
       "      <td>-1</td>\n",
       "      <td>3</td>\n",
       "      <td>1</td>\n",
       "      <td>5.0</td>\n",
       "      <td>4</td>\n",
       "      <td>3</td>\n",
       "      <td>4</td>\n",
       "      <td>1</td>\n",
       "      <td>3</td>\n",
       "      <td>2</td>\n",
       "      <td>...</td>\n",
       "      <td>2.0</td>\n",
       "      <td>4.0</td>\n",
       "      <td>2.0</td>\n",
       "      <td>1.0</td>\n",
       "      <td>2.0</td>\n",
       "      <td>3.0</td>\n",
       "      <td>3.0</td>\n",
       "      <td>4.0</td>\n",
       "      <td>6.0</td>\n",
       "      <td>5.0</td>\n",
       "    </tr>\n",
       "  </tbody>\n",
       "</table>\n",
       "<p>5 rows × 85 columns</p>\n",
       "</div>"
      ],
      "text/plain": [
       "   AGER_TYP  ALTERSKATEGORIE_GROB  ANREDE_KZ  CJT_GESAMTTYP  \\\n",
       "0        -1                     2          1            2.0   \n",
       "1        -1                     1          2            5.0   \n",
       "2        -1                     3          2            3.0   \n",
       "3         2                     4          2            2.0   \n",
       "4        -1                     3          1            5.0   \n",
       "\n",
       "   FINANZ_MINIMALIST  FINANZ_SPARER  FINANZ_VORSORGER  FINANZ_ANLEGER  \\\n",
       "0                  3              4                 3               5   \n",
       "1                  1              5                 2               5   \n",
       "2                  1              4                 1               2   \n",
       "3                  4              2                 5               2   \n",
       "4                  4              3                 4               1   \n",
       "\n",
       "   FINANZ_UNAUFFAELLIGER  FINANZ_HAUSBAUER    ...     PLZ8_ANTG1  PLZ8_ANTG2  \\\n",
       "0                      5                 3    ...            NaN         NaN   \n",
       "1                      4                 5    ...            2.0         3.0   \n",
       "2                      3                 5    ...            3.0         3.0   \n",
       "3                      1                 2    ...            2.0         2.0   \n",
       "4                      3                 2    ...            2.0         4.0   \n",
       "\n",
       "   PLZ8_ANTG3  PLZ8_ANTG4  PLZ8_BAUMAX  PLZ8_HHZ  PLZ8_GBZ  ARBEIT  \\\n",
       "0         NaN         NaN          NaN       NaN       NaN     NaN   \n",
       "1         2.0         1.0          1.0       5.0       4.0     3.0   \n",
       "2         1.0         0.0          1.0       4.0       4.0     3.0   \n",
       "3         2.0         0.0          1.0       3.0       4.0     2.0   \n",
       "4         2.0         1.0          2.0       3.0       3.0     4.0   \n",
       "\n",
       "   ORTSGR_KLS9  RELAT_AB  \n",
       "0          NaN       NaN  \n",
       "1          5.0       4.0  \n",
       "2          5.0       2.0  \n",
       "3          3.0       3.0  \n",
       "4          6.0       5.0  \n",
       "\n",
       "[5 rows x 85 columns]"
      ]
     },
     "execution_count": 3,
     "metadata": {},
     "output_type": "execute_result"
    }
   ],
   "source": [
    "# Check the structure of the data after it's loaded (e.g. print the number of\n",
    "# rows and columns, print the first few rows).\n",
    "\n",
    "print(azdias.shape)\n",
    "azdias.head()"
   ]
  },
  {
   "cell_type": "code",
   "execution_count": 4,
   "metadata": {},
   "outputs": [
    {
     "data": {
      "text/html": [
       "<div>\n",
       "<style scoped>\n",
       "    .dataframe tbody tr th:only-of-type {\n",
       "        vertical-align: middle;\n",
       "    }\n",
       "\n",
       "    .dataframe tbody tr th {\n",
       "        vertical-align: top;\n",
       "    }\n",
       "\n",
       "    .dataframe thead th {\n",
       "        text-align: right;\n",
       "    }\n",
       "</style>\n",
       "<table border=\"1\" class=\"dataframe\">\n",
       "  <thead>\n",
       "    <tr style=\"text-align: right;\">\n",
       "      <th></th>\n",
       "      <th>AGER_TYP</th>\n",
       "      <th>ALTERSKATEGORIE_GROB</th>\n",
       "      <th>ANREDE_KZ</th>\n",
       "      <th>CJT_GESAMTTYP</th>\n",
       "      <th>FINANZ_MINIMALIST</th>\n",
       "      <th>FINANZ_SPARER</th>\n",
       "      <th>FINANZ_VORSORGER</th>\n",
       "      <th>FINANZ_ANLEGER</th>\n",
       "      <th>FINANZ_UNAUFFAELLIGER</th>\n",
       "      <th>FINANZ_HAUSBAUER</th>\n",
       "      <th>...</th>\n",
       "      <th>PLZ8_ANTG1</th>\n",
       "      <th>PLZ8_ANTG2</th>\n",
       "      <th>PLZ8_ANTG3</th>\n",
       "      <th>PLZ8_ANTG4</th>\n",
       "      <th>PLZ8_BAUMAX</th>\n",
       "      <th>PLZ8_HHZ</th>\n",
       "      <th>PLZ8_GBZ</th>\n",
       "      <th>ARBEIT</th>\n",
       "      <th>ORTSGR_KLS9</th>\n",
       "      <th>RELAT_AB</th>\n",
       "    </tr>\n",
       "  </thead>\n",
       "  <tbody>\n",
       "    <tr>\n",
       "      <th>count</th>\n",
       "      <td>891221.000000</td>\n",
       "      <td>891221.000000</td>\n",
       "      <td>891221.000000</td>\n",
       "      <td>886367.000000</td>\n",
       "      <td>891221.000000</td>\n",
       "      <td>891221.000000</td>\n",
       "      <td>891221.000000</td>\n",
       "      <td>891221.000000</td>\n",
       "      <td>891221.000000</td>\n",
       "      <td>891221.000000</td>\n",
       "      <td>...</td>\n",
       "      <td>774706.000000</td>\n",
       "      <td>774706.000000</td>\n",
       "      <td>774706.000000</td>\n",
       "      <td>774706.000000</td>\n",
       "      <td>774706.000000</td>\n",
       "      <td>774706.000000</td>\n",
       "      <td>774706.000000</td>\n",
       "      <td>794005.000000</td>\n",
       "      <td>794005.000000</td>\n",
       "      <td>794005.00000</td>\n",
       "    </tr>\n",
       "    <tr>\n",
       "      <th>mean</th>\n",
       "      <td>-0.358435</td>\n",
       "      <td>2.777398</td>\n",
       "      <td>1.522098</td>\n",
       "      <td>3.632838</td>\n",
       "      <td>3.074528</td>\n",
       "      <td>2.821039</td>\n",
       "      <td>3.401106</td>\n",
       "      <td>3.033328</td>\n",
       "      <td>2.874167</td>\n",
       "      <td>3.075121</td>\n",
       "      <td>...</td>\n",
       "      <td>2.253330</td>\n",
       "      <td>2.801858</td>\n",
       "      <td>1.595426</td>\n",
       "      <td>0.699166</td>\n",
       "      <td>1.943913</td>\n",
       "      <td>3.612821</td>\n",
       "      <td>3.381087</td>\n",
       "      <td>3.167854</td>\n",
       "      <td>5.293002</td>\n",
       "      <td>3.07222</td>\n",
       "    </tr>\n",
       "    <tr>\n",
       "      <th>std</th>\n",
       "      <td>1.198724</td>\n",
       "      <td>1.068775</td>\n",
       "      <td>0.499512</td>\n",
       "      <td>1.595021</td>\n",
       "      <td>1.321055</td>\n",
       "      <td>1.464749</td>\n",
       "      <td>1.322134</td>\n",
       "      <td>1.529603</td>\n",
       "      <td>1.486731</td>\n",
       "      <td>1.353248</td>\n",
       "      <td>...</td>\n",
       "      <td>0.972008</td>\n",
       "      <td>0.920309</td>\n",
       "      <td>0.986736</td>\n",
       "      <td>0.727137</td>\n",
       "      <td>1.459654</td>\n",
       "      <td>0.973967</td>\n",
       "      <td>1.111598</td>\n",
       "      <td>1.002376</td>\n",
       "      <td>2.303739</td>\n",
       "      <td>1.36298</td>\n",
       "    </tr>\n",
       "    <tr>\n",
       "      <th>min</th>\n",
       "      <td>-1.000000</td>\n",
       "      <td>1.000000</td>\n",
       "      <td>1.000000</td>\n",
       "      <td>1.000000</td>\n",
       "      <td>1.000000</td>\n",
       "      <td>1.000000</td>\n",
       "      <td>1.000000</td>\n",
       "      <td>1.000000</td>\n",
       "      <td>1.000000</td>\n",
       "      <td>1.000000</td>\n",
       "      <td>...</td>\n",
       "      <td>0.000000</td>\n",
       "      <td>0.000000</td>\n",
       "      <td>0.000000</td>\n",
       "      <td>0.000000</td>\n",
       "      <td>1.000000</td>\n",
       "      <td>1.000000</td>\n",
       "      <td>1.000000</td>\n",
       "      <td>1.000000</td>\n",
       "      <td>0.000000</td>\n",
       "      <td>1.00000</td>\n",
       "    </tr>\n",
       "    <tr>\n",
       "      <th>25%</th>\n",
       "      <td>-1.000000</td>\n",
       "      <td>2.000000</td>\n",
       "      <td>1.000000</td>\n",
       "      <td>2.000000</td>\n",
       "      <td>2.000000</td>\n",
       "      <td>1.000000</td>\n",
       "      <td>3.000000</td>\n",
       "      <td>2.000000</td>\n",
       "      <td>2.000000</td>\n",
       "      <td>2.000000</td>\n",
       "      <td>...</td>\n",
       "      <td>1.000000</td>\n",
       "      <td>2.000000</td>\n",
       "      <td>1.000000</td>\n",
       "      <td>0.000000</td>\n",
       "      <td>1.000000</td>\n",
       "      <td>3.000000</td>\n",
       "      <td>3.000000</td>\n",
       "      <td>3.000000</td>\n",
       "      <td>4.000000</td>\n",
       "      <td>2.00000</td>\n",
       "    </tr>\n",
       "    <tr>\n",
       "      <th>50%</th>\n",
       "      <td>-1.000000</td>\n",
       "      <td>3.000000</td>\n",
       "      <td>2.000000</td>\n",
       "      <td>4.000000</td>\n",
       "      <td>3.000000</td>\n",
       "      <td>3.000000</td>\n",
       "      <td>3.000000</td>\n",
       "      <td>3.000000</td>\n",
       "      <td>3.000000</td>\n",
       "      <td>3.000000</td>\n",
       "      <td>...</td>\n",
       "      <td>2.000000</td>\n",
       "      <td>3.000000</td>\n",
       "      <td>2.000000</td>\n",
       "      <td>1.000000</td>\n",
       "      <td>1.000000</td>\n",
       "      <td>4.000000</td>\n",
       "      <td>3.000000</td>\n",
       "      <td>3.000000</td>\n",
       "      <td>5.000000</td>\n",
       "      <td>3.00000</td>\n",
       "    </tr>\n",
       "    <tr>\n",
       "      <th>75%</th>\n",
       "      <td>-1.000000</td>\n",
       "      <td>4.000000</td>\n",
       "      <td>2.000000</td>\n",
       "      <td>5.000000</td>\n",
       "      <td>4.000000</td>\n",
       "      <td>4.000000</td>\n",
       "      <td>5.000000</td>\n",
       "      <td>5.000000</td>\n",
       "      <td>4.000000</td>\n",
       "      <td>4.000000</td>\n",
       "      <td>...</td>\n",
       "      <td>3.000000</td>\n",
       "      <td>3.000000</td>\n",
       "      <td>2.000000</td>\n",
       "      <td>1.000000</td>\n",
       "      <td>3.000000</td>\n",
       "      <td>4.000000</td>\n",
       "      <td>4.000000</td>\n",
       "      <td>4.000000</td>\n",
       "      <td>7.000000</td>\n",
       "      <td>4.00000</td>\n",
       "    </tr>\n",
       "    <tr>\n",
       "      <th>max</th>\n",
       "      <td>3.000000</td>\n",
       "      <td>9.000000</td>\n",
       "      <td>2.000000</td>\n",
       "      <td>6.000000</td>\n",
       "      <td>5.000000</td>\n",
       "      <td>5.000000</td>\n",
       "      <td>5.000000</td>\n",
       "      <td>5.000000</td>\n",
       "      <td>5.000000</td>\n",
       "      <td>5.000000</td>\n",
       "      <td>...</td>\n",
       "      <td>4.000000</td>\n",
       "      <td>4.000000</td>\n",
       "      <td>3.000000</td>\n",
       "      <td>2.000000</td>\n",
       "      <td>5.000000</td>\n",
       "      <td>5.000000</td>\n",
       "      <td>5.000000</td>\n",
       "      <td>9.000000</td>\n",
       "      <td>9.000000</td>\n",
       "      <td>9.00000</td>\n",
       "    </tr>\n",
       "  </tbody>\n",
       "</table>\n",
       "<p>8 rows × 81 columns</p>\n",
       "</div>"
      ],
      "text/plain": [
       "            AGER_TYP  ALTERSKATEGORIE_GROB      ANREDE_KZ  CJT_GESAMTTYP  \\\n",
       "count  891221.000000         891221.000000  891221.000000  886367.000000   \n",
       "mean       -0.358435              2.777398       1.522098       3.632838   \n",
       "std         1.198724              1.068775       0.499512       1.595021   \n",
       "min        -1.000000              1.000000       1.000000       1.000000   \n",
       "25%        -1.000000              2.000000       1.000000       2.000000   \n",
       "50%        -1.000000              3.000000       2.000000       4.000000   \n",
       "75%        -1.000000              4.000000       2.000000       5.000000   \n",
       "max         3.000000              9.000000       2.000000       6.000000   \n",
       "\n",
       "       FINANZ_MINIMALIST  FINANZ_SPARER  FINANZ_VORSORGER  FINANZ_ANLEGER  \\\n",
       "count      891221.000000  891221.000000     891221.000000   891221.000000   \n",
       "mean            3.074528       2.821039          3.401106        3.033328   \n",
       "std             1.321055       1.464749          1.322134        1.529603   \n",
       "min             1.000000       1.000000          1.000000        1.000000   \n",
       "25%             2.000000       1.000000          3.000000        2.000000   \n",
       "50%             3.000000       3.000000          3.000000        3.000000   \n",
       "75%             4.000000       4.000000          5.000000        5.000000   \n",
       "max             5.000000       5.000000          5.000000        5.000000   \n",
       "\n",
       "       FINANZ_UNAUFFAELLIGER  FINANZ_HAUSBAUER      ...          PLZ8_ANTG1  \\\n",
       "count          891221.000000     891221.000000      ...       774706.000000   \n",
       "mean                2.874167          3.075121      ...            2.253330   \n",
       "std                 1.486731          1.353248      ...            0.972008   \n",
       "min                 1.000000          1.000000      ...            0.000000   \n",
       "25%                 2.000000          2.000000      ...            1.000000   \n",
       "50%                 3.000000          3.000000      ...            2.000000   \n",
       "75%                 4.000000          4.000000      ...            3.000000   \n",
       "max                 5.000000          5.000000      ...            4.000000   \n",
       "\n",
       "          PLZ8_ANTG2     PLZ8_ANTG3     PLZ8_ANTG4    PLZ8_BAUMAX  \\\n",
       "count  774706.000000  774706.000000  774706.000000  774706.000000   \n",
       "mean        2.801858       1.595426       0.699166       1.943913   \n",
       "std         0.920309       0.986736       0.727137       1.459654   \n",
       "min         0.000000       0.000000       0.000000       1.000000   \n",
       "25%         2.000000       1.000000       0.000000       1.000000   \n",
       "50%         3.000000       2.000000       1.000000       1.000000   \n",
       "75%         3.000000       2.000000       1.000000       3.000000   \n",
       "max         4.000000       3.000000       2.000000       5.000000   \n",
       "\n",
       "            PLZ8_HHZ       PLZ8_GBZ         ARBEIT    ORTSGR_KLS9  \\\n",
       "count  774706.000000  774706.000000  794005.000000  794005.000000   \n",
       "mean        3.612821       3.381087       3.167854       5.293002   \n",
       "std         0.973967       1.111598       1.002376       2.303739   \n",
       "min         1.000000       1.000000       1.000000       0.000000   \n",
       "25%         3.000000       3.000000       3.000000       4.000000   \n",
       "50%         4.000000       3.000000       3.000000       5.000000   \n",
       "75%         4.000000       4.000000       4.000000       7.000000   \n",
       "max         5.000000       5.000000       9.000000       9.000000   \n",
       "\n",
       "           RELAT_AB  \n",
       "count  794005.00000  \n",
       "mean        3.07222  \n",
       "std         1.36298  \n",
       "min         1.00000  \n",
       "25%         2.00000  \n",
       "50%         3.00000  \n",
       "75%         4.00000  \n",
       "max         9.00000  \n",
       "\n",
       "[8 rows x 81 columns]"
      ]
     },
     "execution_count": 4,
     "metadata": {},
     "output_type": "execute_result"
    }
   ],
   "source": [
    "azdias.describe()"
   ]
  },
  {
   "cell_type": "code",
   "execution_count": 5,
   "metadata": {},
   "outputs": [
    {
     "data": {
      "text/html": [
       "<div>\n",
       "<style scoped>\n",
       "    .dataframe tbody tr th:only-of-type {\n",
       "        vertical-align: middle;\n",
       "    }\n",
       "\n",
       "    .dataframe tbody tr th {\n",
       "        vertical-align: top;\n",
       "    }\n",
       "\n",
       "    .dataframe thead th {\n",
       "        text-align: right;\n",
       "    }\n",
       "</style>\n",
       "<table border=\"1\" class=\"dataframe\">\n",
       "  <thead>\n",
       "    <tr style=\"text-align: right;\">\n",
       "      <th></th>\n",
       "      <th>attribute</th>\n",
       "      <th>information_level</th>\n",
       "      <th>type</th>\n",
       "      <th>missing_or_unknown</th>\n",
       "    </tr>\n",
       "  </thead>\n",
       "  <tbody>\n",
       "    <tr>\n",
       "      <th>0</th>\n",
       "      <td>AGER_TYP</td>\n",
       "      <td>person</td>\n",
       "      <td>categorical</td>\n",
       "      <td>[-1,0]</td>\n",
       "    </tr>\n",
       "    <tr>\n",
       "      <th>1</th>\n",
       "      <td>ALTERSKATEGORIE_GROB</td>\n",
       "      <td>person</td>\n",
       "      <td>ordinal</td>\n",
       "      <td>[-1,0,9]</td>\n",
       "    </tr>\n",
       "    <tr>\n",
       "      <th>2</th>\n",
       "      <td>ANREDE_KZ</td>\n",
       "      <td>person</td>\n",
       "      <td>categorical</td>\n",
       "      <td>[-1,0]</td>\n",
       "    </tr>\n",
       "    <tr>\n",
       "      <th>3</th>\n",
       "      <td>CJT_GESAMTTYP</td>\n",
       "      <td>person</td>\n",
       "      <td>categorical</td>\n",
       "      <td>[0]</td>\n",
       "    </tr>\n",
       "    <tr>\n",
       "      <th>4</th>\n",
       "      <td>FINANZ_MINIMALIST</td>\n",
       "      <td>person</td>\n",
       "      <td>ordinal</td>\n",
       "      <td>[-1]</td>\n",
       "    </tr>\n",
       "  </tbody>\n",
       "</table>\n",
       "</div>"
      ],
      "text/plain": [
       "              attribute information_level         type missing_or_unknown\n",
       "0              AGER_TYP            person  categorical             [-1,0]\n",
       "1  ALTERSKATEGORIE_GROB            person      ordinal           [-1,0,9]\n",
       "2             ANREDE_KZ            person  categorical             [-1,0]\n",
       "3         CJT_GESAMTTYP            person  categorical                [0]\n",
       "4     FINANZ_MINIMALIST            person      ordinal               [-1]"
      ]
     },
     "execution_count": 5,
     "metadata": {},
     "output_type": "execute_result"
    }
   ],
   "source": [
    "feat_info.head()"
   ]
  },
  {
   "cell_type": "markdown",
   "metadata": {},
   "source": [
    "> **Tip**: Add additional cells to keep everything in reasonably-sized chunks! Keyboard shortcut `esc --> a` (press escape to enter command mode, then press the 'A' key) adds a new cell before the active cell, and `esc --> b` adds a new cell after the active cell. If you need to convert an active cell to a markdown cell, use `esc --> m` and to convert to a code cell, use `esc --> y`. \n",
    "\n",
    "## Step 1: Preprocessing\n",
    "\n",
    "### Step 1.1: Assess Missing Data\n",
    "\n",
    "The feature summary file contains a summary of properties for each demographics data column. You will use this file to help you make cleaning decisions during this stage of the project. First of all, you should assess the demographics data in terms of missing data. Pay attention to the following points as you perform your analysis, and take notes on what you observe. Make sure that you fill in the **Discussion** cell with your findings and decisions at the end of each step that has one!\n",
    "\n",
    "#### Step 1.1.1: Convert Missing Value Codes to NaNs\n",
    "The fourth column of the feature attributes summary (loaded in above as `feat_info`) documents the codes from the data dictionary that indicate missing or unknown data. While the file encodes this as a list (e.g. `[-1,0]`), this will get read in as a string object. You'll need to do a little bit of parsing to make use of it to identify and clean the data. Convert data that matches a 'missing' or 'unknown' value code into a numpy NaN value. You might want to see how much data takes on a 'missing' or 'unknown' code, and how much data is naturally missing, as a point of interest.\n",
    "\n",
    "**As one more reminder, you are encouraged to add additional cells to break up your analysis into manageable chunks.**"
   ]
  },
  {
   "cell_type": "code",
   "execution_count": 6,
   "metadata": {},
   "outputs": [
    {
     "data": {
      "text/plain": [
       "[-1]        26\n",
       "[-1,9]      17\n",
       "[-1,0]      16\n",
       "[0]         12\n",
       "[]          10\n",
       "[-1,X]       1\n",
       "[XX]         1\n",
       "[-1,0,9]     1\n",
       "[-1,XX]      1\n",
       "Name: missing_or_unknown, dtype: int64"
      ]
     },
     "execution_count": 6,
     "metadata": {},
     "output_type": "execute_result"
    }
   ],
   "source": [
    "# Identify missing or unknown data values and convert them to NaNs.\n",
    "feat_info['missing_or_unknown'].value_counts()"
   ]
  },
  {
   "cell_type": "code",
   "execution_count": 7,
   "metadata": {},
   "outputs": [],
   "source": [
    "# Old code was kept for my own use.\n",
    "\n",
    "# for i in range(0, 85):   \n",
    "#     missing_values=feat_info['missing_or_unknown'][i].strip('[]').split(',')\n",
    "\n",
    "#     for value in missing_values:           \n",
    "#         if value in ['X', 'XX']:\n",
    "#             azdias.iloc[:, i]=azdias.iloc[:, i].replace(value,np.nan)\n",
    "#         elif value == '':\n",
    "#             pass\n",
    "#         else:\n",
    "#             azdias.iloc[:, i]=azdias.iloc[:, i].replace(int(value),np.nan)\n",
    "            \n",
    "    \n",
    "for attribute, miss_index in zip(feat_info['attribute'], feat_info['missing_or_unknown']):    \n",
    "    missing_values = miss_index.strip('[]').split(',')\n",
    "    missing_values = [int(value) if (value!='X' and value!='XX' and value!='') \\\n",
    "                      else value for value in missing_values]\n",
    "    if missing_values != ['']:\n",
    "        azdias[attribute] = azdias[attribute].replace(missing_values, np.nan)\n",
    "        "
   ]
  },
  {
   "cell_type": "code",
   "execution_count": 8,
   "metadata": {},
   "outputs": [
    {
     "data": {
      "text/html": [
       "<div>\n",
       "<style scoped>\n",
       "    .dataframe tbody tr th:only-of-type {\n",
       "        vertical-align: middle;\n",
       "    }\n",
       "\n",
       "    .dataframe tbody tr th {\n",
       "        vertical-align: top;\n",
       "    }\n",
       "\n",
       "    .dataframe thead th {\n",
       "        text-align: right;\n",
       "    }\n",
       "</style>\n",
       "<table border=\"1\" class=\"dataframe\">\n",
       "  <thead>\n",
       "    <tr style=\"text-align: right;\">\n",
       "      <th></th>\n",
       "      <th>AGER_TYP</th>\n",
       "      <th>ALTERSKATEGORIE_GROB</th>\n",
       "      <th>ANREDE_KZ</th>\n",
       "      <th>CJT_GESAMTTYP</th>\n",
       "      <th>FINANZ_MINIMALIST</th>\n",
       "      <th>FINANZ_SPARER</th>\n",
       "      <th>FINANZ_VORSORGER</th>\n",
       "      <th>FINANZ_ANLEGER</th>\n",
       "      <th>FINANZ_UNAUFFAELLIGER</th>\n",
       "      <th>FINANZ_HAUSBAUER</th>\n",
       "      <th>...</th>\n",
       "      <th>PLZ8_ANTG1</th>\n",
       "      <th>PLZ8_ANTG2</th>\n",
       "      <th>PLZ8_ANTG3</th>\n",
       "      <th>PLZ8_ANTG4</th>\n",
       "      <th>PLZ8_BAUMAX</th>\n",
       "      <th>PLZ8_HHZ</th>\n",
       "      <th>PLZ8_GBZ</th>\n",
       "      <th>ARBEIT</th>\n",
       "      <th>ORTSGR_KLS9</th>\n",
       "      <th>RELAT_AB</th>\n",
       "    </tr>\n",
       "  </thead>\n",
       "  <tbody>\n",
       "    <tr>\n",
       "      <th>0</th>\n",
       "      <td>NaN</td>\n",
       "      <td>2.0</td>\n",
       "      <td>1</td>\n",
       "      <td>2.0</td>\n",
       "      <td>3</td>\n",
       "      <td>4</td>\n",
       "      <td>3</td>\n",
       "      <td>5</td>\n",
       "      <td>5</td>\n",
       "      <td>3</td>\n",
       "      <td>...</td>\n",
       "      <td>NaN</td>\n",
       "      <td>NaN</td>\n",
       "      <td>NaN</td>\n",
       "      <td>NaN</td>\n",
       "      <td>NaN</td>\n",
       "      <td>NaN</td>\n",
       "      <td>NaN</td>\n",
       "      <td>NaN</td>\n",
       "      <td>NaN</td>\n",
       "      <td>NaN</td>\n",
       "    </tr>\n",
       "    <tr>\n",
       "      <th>1</th>\n",
       "      <td>NaN</td>\n",
       "      <td>1.0</td>\n",
       "      <td>2</td>\n",
       "      <td>5.0</td>\n",
       "      <td>1</td>\n",
       "      <td>5</td>\n",
       "      <td>2</td>\n",
       "      <td>5</td>\n",
       "      <td>4</td>\n",
       "      <td>5</td>\n",
       "      <td>...</td>\n",
       "      <td>2.0</td>\n",
       "      <td>3.0</td>\n",
       "      <td>2.0</td>\n",
       "      <td>1.0</td>\n",
       "      <td>1.0</td>\n",
       "      <td>5.0</td>\n",
       "      <td>4.0</td>\n",
       "      <td>3.0</td>\n",
       "      <td>5.0</td>\n",
       "      <td>4.0</td>\n",
       "    </tr>\n",
       "    <tr>\n",
       "      <th>2</th>\n",
       "      <td>NaN</td>\n",
       "      <td>3.0</td>\n",
       "      <td>2</td>\n",
       "      <td>3.0</td>\n",
       "      <td>1</td>\n",
       "      <td>4</td>\n",
       "      <td>1</td>\n",
       "      <td>2</td>\n",
       "      <td>3</td>\n",
       "      <td>5</td>\n",
       "      <td>...</td>\n",
       "      <td>3.0</td>\n",
       "      <td>3.0</td>\n",
       "      <td>1.0</td>\n",
       "      <td>0.0</td>\n",
       "      <td>1.0</td>\n",
       "      <td>4.0</td>\n",
       "      <td>4.0</td>\n",
       "      <td>3.0</td>\n",
       "      <td>5.0</td>\n",
       "      <td>2.0</td>\n",
       "    </tr>\n",
       "    <tr>\n",
       "      <th>3</th>\n",
       "      <td>2.0</td>\n",
       "      <td>4.0</td>\n",
       "      <td>2</td>\n",
       "      <td>2.0</td>\n",
       "      <td>4</td>\n",
       "      <td>2</td>\n",
       "      <td>5</td>\n",
       "      <td>2</td>\n",
       "      <td>1</td>\n",
       "      <td>2</td>\n",
       "      <td>...</td>\n",
       "      <td>2.0</td>\n",
       "      <td>2.0</td>\n",
       "      <td>2.0</td>\n",
       "      <td>0.0</td>\n",
       "      <td>1.0</td>\n",
       "      <td>3.0</td>\n",
       "      <td>4.0</td>\n",
       "      <td>2.0</td>\n",
       "      <td>3.0</td>\n",
       "      <td>3.0</td>\n",
       "    </tr>\n",
       "    <tr>\n",
       "      <th>4</th>\n",
       "      <td>NaN</td>\n",
       "      <td>3.0</td>\n",
       "      <td>1</td>\n",
       "      <td>5.0</td>\n",
       "      <td>4</td>\n",
       "      <td>3</td>\n",
       "      <td>4</td>\n",
       "      <td>1</td>\n",
       "      <td>3</td>\n",
       "      <td>2</td>\n",
       "      <td>...</td>\n",
       "      <td>2.0</td>\n",
       "      <td>4.0</td>\n",
       "      <td>2.0</td>\n",
       "      <td>1.0</td>\n",
       "      <td>2.0</td>\n",
       "      <td>3.0</td>\n",
       "      <td>3.0</td>\n",
       "      <td>4.0</td>\n",
       "      <td>6.0</td>\n",
       "      <td>5.0</td>\n",
       "    </tr>\n",
       "  </tbody>\n",
       "</table>\n",
       "<p>5 rows × 85 columns</p>\n",
       "</div>"
      ],
      "text/plain": [
       "   AGER_TYP  ALTERSKATEGORIE_GROB  ANREDE_KZ  CJT_GESAMTTYP  \\\n",
       "0       NaN                   2.0          1            2.0   \n",
       "1       NaN                   1.0          2            5.0   \n",
       "2       NaN                   3.0          2            3.0   \n",
       "3       2.0                   4.0          2            2.0   \n",
       "4       NaN                   3.0          1            5.0   \n",
       "\n",
       "   FINANZ_MINIMALIST  FINANZ_SPARER  FINANZ_VORSORGER  FINANZ_ANLEGER  \\\n",
       "0                  3              4                 3               5   \n",
       "1                  1              5                 2               5   \n",
       "2                  1              4                 1               2   \n",
       "3                  4              2                 5               2   \n",
       "4                  4              3                 4               1   \n",
       "\n",
       "   FINANZ_UNAUFFAELLIGER  FINANZ_HAUSBAUER    ...     PLZ8_ANTG1  PLZ8_ANTG2  \\\n",
       "0                      5                 3    ...            NaN         NaN   \n",
       "1                      4                 5    ...            2.0         3.0   \n",
       "2                      3                 5    ...            3.0         3.0   \n",
       "3                      1                 2    ...            2.0         2.0   \n",
       "4                      3                 2    ...            2.0         4.0   \n",
       "\n",
       "   PLZ8_ANTG3  PLZ8_ANTG4  PLZ8_BAUMAX  PLZ8_HHZ  PLZ8_GBZ  ARBEIT  \\\n",
       "0         NaN         NaN          NaN       NaN       NaN     NaN   \n",
       "1         2.0         1.0          1.0       5.0       4.0     3.0   \n",
       "2         1.0         0.0          1.0       4.0       4.0     3.0   \n",
       "3         2.0         0.0          1.0       3.0       4.0     2.0   \n",
       "4         2.0         1.0          2.0       3.0       3.0     4.0   \n",
       "\n",
       "   ORTSGR_KLS9  RELAT_AB  \n",
       "0          NaN       NaN  \n",
       "1          5.0       4.0  \n",
       "2          5.0       2.0  \n",
       "3          3.0       3.0  \n",
       "4          6.0       5.0  \n",
       "\n",
       "[5 rows x 85 columns]"
      ]
     },
     "execution_count": 8,
     "metadata": {},
     "output_type": "execute_result"
    }
   ],
   "source": [
    "azdias.head()"
   ]
  },
  {
   "cell_type": "markdown",
   "metadata": {},
   "source": [
    "#### Step 1.1.2: Assess Missing Data in Each Column\n",
    "\n",
    "How much missing data is present in each column? There are a few columns that are outliers in terms of the proportion of values that are missing. You will want to use matplotlib's [`hist()`](https://matplotlib.org/api/_as_gen/matplotlib.pyplot.hist.html) function to visualize the distribution of missing value counts to find these columns. Identify and document these columns. While some of these columns might have justifications for keeping or re-encoding the data, for this project you should just remove them from the dataframe. (Feel free to make remarks about these outlier columns in the discussion, however!)\n",
    "\n",
    "For the remaining features, are there any patterns in which columns have, or share, missing data?"
   ]
  },
  {
   "cell_type": "code",
   "execution_count": 12,
   "metadata": {},
   "outputs": [
    {
     "data": {
      "text/plain": [
       "TITEL_KZ          889061\n",
       "AGER_TYP          685843\n",
       "KK_KUNDENTYP      584612\n",
       "KBA05_BAUMAX      476524\n",
       "GEBURTSJAHR       392318\n",
       "ALTER_HH          310267\n",
       "REGIOTYP          158064\n",
       "KKK               158064\n",
       "W_KEIT_KIND_HH    147988\n",
       "KBA05_ANTG4       133324\n",
       "dtype: int64"
      ]
     },
     "execution_count": 12,
     "metadata": {},
     "output_type": "execute_result"
    }
   ],
   "source": [
    "col_missing=azdias.isna().sum().sort_values(ascending=False)\n",
    "col_missing[:10]"
   ]
  },
  {
   "cell_type": "code",
   "execution_count": 13,
   "metadata": {},
   "outputs": [
    {
     "data": {
      "text/plain": [
       "([<matplotlib.axis.XTick at 0x7fd02d535160>,\n",
       "  <matplotlib.axis.XTick at 0x7fd02f576cc0>,\n",
       "  <matplotlib.axis.XTick at 0x7fd02f597ac8>,\n",
       "  <matplotlib.axis.XTick at 0x7fd02d51cda0>,\n",
       "  <matplotlib.axis.XTick at 0x7fd02d4ac438>,\n",
       "  <matplotlib.axis.XTick at 0x7fd02d4aca90>,\n",
       "  <matplotlib.axis.XTick at 0x7fd02d4b1160>,\n",
       "  <matplotlib.axis.XTick at 0x7fd02d4b17f0>,\n",
       "  <matplotlib.axis.XTick at 0x7fd02d4b1e80>],\n",
       " <a list of 9 Text xticklabel objects>)"
      ]
     },
     "execution_count": 13,
     "metadata": {},
     "output_type": "execute_result"
    },
    {
     "data": {
      "image/png": "[encoded data removed]",
      "text/plain": [
       "<matplotlib.figure.Figure at 0x7fd02f561898>"
      ]
     },
     "metadata": {
      "needs_background": "light"
     },
     "output_type": "display_data"
    }
   ],
   "source": [
    "# Perform an assessment of how much missing data there is in each column of the\n",
    "# dataset.\n",
    "plt.figure(figsize=(16,8))\n",
    "plt.hist(col_missing, bins=30,align='mid')\n",
    "plt.xticks(list(np.arange(0,900000,100000)))"
   ]
  },
  {
   "cell_type": "code",
   "execution_count": 14,
   "metadata": {},
   "outputs": [
    {
     "data": {
      "text/plain": [
       "['TITEL_KZ',\n",
       " 'AGER_TYP',\n",
       " 'KK_KUNDENTYP',\n",
       " 'KBA05_BAUMAX',\n",
       " 'GEBURTSJAHR',\n",
       " 'ALTER_HH']"
      ]
     },
     "execution_count": 14,
     "metadata": {},
     "output_type": "execute_result"
    }
   ],
   "source": [
    "#Identifying the columns that have more than 300,000 missing vlues\n",
    "#and categorize them as outliers.\n",
    "\n",
    "col_outliers=[]\n",
    "for i in range(0, 85):\n",
    "    if col_missing[i] > 300000:\n",
    "        col_outliers.append(col_missing.index[i])\n",
    "col_outliers"
   ]
  },
  {
   "cell_type": "code",
   "execution_count": 15,
   "metadata": {},
   "outputs": [],
   "source": [
    "#Remove 6 outlier columns.\n",
    "\n",
    "azdias_less_col= azdias.drop(col_outliers, axis=1)"
   ]
  },
  {
   "cell_type": "code",
   "execution_count": 16,
   "metadata": {},
   "outputs": [
    {
     "data": {
      "text/plain": [
       "(891221, 79)"
      ]
     },
     "execution_count": 16,
     "metadata": {},
     "output_type": "execute_result"
    }
   ],
   "source": [
    "azdias_less_col.shape"
   ]
  },
  {
   "cell_type": "code",
   "execution_count": 17,
   "metadata": {},
   "outputs": [
    {
     "data": {
      "text/plain": [
       "KKK               158064\n",
       "REGIOTYP          158064\n",
       "W_KEIT_KIND_HH    147988\n",
       "MOBI_REGIO        133324\n",
       "KBA05_ANTG4       133324\n",
       "KBA05_ANTG3       133324\n",
       "KBA05_ANTG2       133324\n",
       "KBA05_ANTG1       133324\n",
       "KBA05_GBZ         133324\n",
       "PLZ8_ANTG2        116515\n",
       "dtype: int64"
      ]
     },
     "execution_count": 17,
     "metadata": {},
     "output_type": "execute_result"
    }
   ],
   "source": [
    "# Investigate patterns in the amount of missing data in each column.\n",
    "col_missing_1 = azdias_less_col.isna().sum().sort_values(ascending=False)\n",
    "col_missing_1[:10]"
   ]
  },
  {
   "cell_type": "code",
   "execution_count": 18,
   "metadata": {},
   "outputs": [
    {
     "data": {
      "text/plain": [
       "40"
      ]
     },
     "execution_count": 18,
     "metadata": {},
     "output_type": "execute_result"
    }
   ],
   "source": [
    "#Number of columns that is missing 10% of the population values.\n",
    "\n",
    "col_missing_1[col_missing_1.values > 89000].count()"
   ]
  },
  {
   "cell_type": "code",
   "execution_count": 19,
   "metadata": {},
   "outputs": [
    {
     "data": {
      "text/plain": [
       "([<matplotlib.axis.XTick at 0x7fd02f561518>,\n",
       "  <matplotlib.axis.XTick at 0x7fd02f5612b0>,\n",
       "  <matplotlib.axis.XTick at 0x7fd02d47fbe0>,\n",
       "  <matplotlib.axis.XTick at 0x7fd02d40cc50>,\n",
       "  <matplotlib.axis.XTick at 0x7fd02d3ad2e8>,\n",
       "  <matplotlib.axis.XTick at 0x7fd02d3ad940>,\n",
       "  <matplotlib.axis.XTick at 0x7fd02d3adfd0>,\n",
       "  <matplotlib.axis.XTick at 0x7fd02d3b56a0>,\n",
       "  <matplotlib.axis.XTick at 0x7fd02d3b5d30>,\n",
       "  <matplotlib.axis.XTick at 0x7fd02d3b9400>],\n",
       " <a list of 10 Text xticklabel objects>)"
      ]
     },
     "execution_count": 19,
     "metadata": {},
     "output_type": "execute_result"
    },
    {
     "data": {
      "image/png": "[encoded data removed]",
      "text/plain": [
       "<matplotlib.figure.Figure at 0x7fd02f597438>"
      ]
     },
     "metadata": {
      "needs_background": "light"
     },
     "output_type": "display_data"
    }
   ],
   "source": [
    "plt.figure(figsize=(16,8))\n",
    "plt.hist(col_missing_1.values, bins=50,align='mid')\n",
    "plt.xticks(list(np.arange(0,200000,20000)))"
   ]
  },
  {
   "cell_type": "markdown",
   "metadata": {},
   "source": [
    "#### Discussion 1.1.2: Assess Missing Data in Each Column\n",
    "\n",
    "\n",
    "After removing 6 outlier columns, the next column with the highest missing values is 'KKK' with 158,064 missing values representing 17% of population. Overall, there are still 40 columns that have missing values of more than 89,000, which is about 10% of the total population.  \n",
    "\n",
    "Many of theses columns share similar titles while sahring the same number of missing values. For example, the 7 columns with the name starting with \"KBA_05\" sharing the exact 133324 missing values. This represents about 15% of the population. So the people in the 15% of the population have either entries for all these 7 features, or has no entries at all.\n",
    "\n",
    "While some of these columns have high missing values (up to 17% of population), as shown in the graph, they tend to make their own cluster in the histogram making it hard to set any particular threshold values to call out some of them as outliers. \n",
    "\n",
    "In fact, I ran this projects multiple times with different scenarios including deleting most of the columns with many missing values, all the way down to 40 features. This did produce higher accuracy more quickly during PCA. However, I came back to keeping most of these columns for now because I assume I don't know what the test (customers) data look like. They may have columns that my model doesn't include, but are meaningful. "
   ]
  },
  {
   "cell_type": "markdown",
   "metadata": {},
   "source": [
    "#### Step 1.1.3: Assess Missing Data in Each Row\n",
    "\n",
    "Now, you'll perform a similar assessment for the rows of the dataset. How much data is missing in each row? As with the columns, you should see some groups of points that have a very different numbers of missing values. Divide the data into two subsets: one for data points that are above some threshold for missing values, and a second subset for points below that threshold.\n",
    "\n",
    "In order to know what to do with the outlier rows, we should see if the distribution of data values on columns that are not missing data (or are missing very little data) are similar or different between the two groups. Select at least five of these columns and compare the distribution of values.\n",
    "- You can use seaborn's [`countplot()`](https://seaborn.pydata.org/generated/seaborn.countplot.html) function to create a bar chart of code frequencies and matplotlib's [`subplot()`](https://matplotlib.org/api/_as_gen/matplotlib.pyplot.subplot.html) function to put bar charts for the two subplots side by side.\n",
    "- To reduce repeated code, you might want to write a function that can perform this comparison, taking as one of its arguments a column to be compared.\n",
    "\n",
    "Depending on what you observe in your comparison, this will have implications on how you approach your conclusions later in the analysis. If the distributions of non-missing features look similar between the data with many missing values and the data with few or no missing values, then we could argue that simply dropping those points from the analysis won't present a major issue. On the other hand, if the data with many missing values looks very different from the data with few or no missing values, then we should make a note on those data as special. We'll revisit these data later on. **Either way, you should continue your analysis for now using just the subset of the data with few or no missing values.**"
   ]
  },
  {
   "cell_type": "code",
   "execution_count": 20,
   "metadata": {},
   "outputs": [
    {
     "data": {
      "text/plain": [
       "643174    49\n",
       "732775    49\n",
       "472919    48\n",
       "183108    47\n",
       "139316    47\n",
       "691141    47\n",
       "691142    47\n",
       "691171    47\n",
       "691183    47\n",
       "139332    47\n",
       "dtype: int64"
      ]
     },
     "execution_count": 20,
     "metadata": {},
     "output_type": "execute_result"
    }
   ],
   "source": [
    "# How much data is missing in each row of the dataset?\n",
    "row_missing=azdias_less_col.isnull().sum(axis=1)\n",
    "row_missing.sort_values(ascending=False)[:10]"
   ]
  },
  {
   "cell_type": "code",
   "execution_count": 21,
   "metadata": {},
   "outputs": [
    {
     "data": {
      "text/plain": [
       "(array([  6.97109000e+05,   7.76340000e+04,   1.28010000e+04,\n",
       "          9.53300000e+03,   8.29000000e+02,   1.55000000e+02,\n",
       "          1.40160000e+04,   5.03100000e+03,   2.80380000e+04,\n",
       "          4.60750000e+04]),\n",
       " array([  0. ,   4.9,   9.8,  14.7,  19.6,  24.5,  29.4,  34.3,  39.2,\n",
       "         44.1,  49. ]),\n",
       " <a list of 10 Patch objects>)"
      ]
     },
     "execution_count": 21,
     "metadata": {},
     "output_type": "execute_result"
    },
    {
     "data": {
      "image/png": "[encoded data removed]",
      "text/plain": [
       "<matplotlib.figure.Figure at 0x7fd02d49d518>"
      ]
     },
     "metadata": {
      "needs_background": "light"
     },
     "output_type": "display_data"
    }
   ],
   "source": [
    "plt.hist(row_missing)"
   ]
  },
  {
   "cell_type": "code",
   "execution_count": 22,
   "metadata": {},
   "outputs": [],
   "source": [
    "# Write code to divide the data into two subsets based on the number of missing\n",
    "# values in each row.\n",
    "\n",
    "#Initial value to divide the groups set at 25.\n",
    "azdias_lc_g1 = azdias_less_col[azdias_less_col.isnull().sum(axis=1) < 25]\n",
    "azdias_lc_g2 = azdias_less_col[azdias_less_col.isnull().sum(axis=1) >= 25]"
   ]
  },
  {
   "cell_type": "code",
   "execution_count": 23,
   "metadata": {},
   "outputs": [
    {
     "name": "stdout",
     "output_type": "stream",
     "text": [
      "(797906, 79)\n",
      "(93315, 79)\n"
     ]
    }
   ],
   "source": [
    "print(azdias_lc_g1.shape)\n",
    "print(azdias_lc_g2.shape)"
   ]
  },
  {
   "cell_type": "code",
   "execution_count": 24,
   "metadata": {},
   "outputs": [],
   "source": [
    "# Randomly Selected 6 Columns with no missing values\n",
    "cols = ['SEMIO_FAM', 'ANREDE_KZ', 'FINANZ_ANLEGER','GREEN_AVANTGARDE',\\\n",
    "        'SEMIO_DOM','SEMIO_LUST', 'SEMIO_REL']"
   ]
  },
  {
   "cell_type": "code",
   "execution_count": 25,
   "metadata": {},
   "outputs": [],
   "source": [
    "def value_distribution(columns):\n",
    "    for i in columns:\n",
    "        fig, (ax1, ax2) = plt.subplots(1, 2, figsize=(12,5))\n",
    "        sns.countplot(x=azdias_lc_g1[i].values, ax=ax1)\n",
    "        sns.countplot(x=azdias_lc_g2[i].values, ax=ax2)\n",
    "        plt.suptitle('Feature: '+ i)\n",
    "        ax1.set_title('Entries <25 Missing Values')\n",
    "        ax2.set_title('Entries >=25 Missing Values')"
   ]
  },
  {
   "cell_type": "code",
   "execution_count": 26,
   "metadata": {},
   "outputs": [
    {
     "data": {
      "image/png": "[encoded data removed]",
      "text/plain": [
       "<matplotlib.figure.Figure at 0x7fd02d4617f0>"
      ]
     },
     "metadata": {
      "needs_background": "light"
     },
     "output_type": "display_data"
    },
    {
     "data": {
      "image/png": "[encoded data removed]",
      "text/plain": [
       "<matplotlib.figure.Figure at 0x7fd02d2b2978>"
      ]
     },
     "metadata": {
      "needs_background": "light"
     },
     "output_type": "display_data"
    },
    {
     "data": {
      "image/png": "[encoded data removed]",
      "text/plain": [
       "<matplotlib.figure.Figure at 0x7fd02d23fc50>"
      ]
     },
     "metadata": {
      "needs_background": "light"
     },
     "output_type": "display_data"
    },
    {
     "data": {
      "image/png": "[encoded data removed]",
      "text/plain": [
       "<matplotlib.figure.Figure at 0x7fd02d1b5e48>"
      ]
     },
     "metadata": {
      "needs_background": "light"
     },
     "output_type": "display_data"
    },
    {
     "data": {
      "image/png": "[encoded data removed]",
      "text/plain": [
       "<matplotlib.figure.Figure at 0x7fd02d15ad68>"
      ]
     },
     "metadata": {
      "needs_background": "light"
     },
     "output_type": "display_data"
    },
    {
     "data": {
      "image/png": "[encoded data removed]",
      "text/plain": [
       "<matplotlib.figure.Figure at 0x7fd02d026c50>"
      ]
     },
     "metadata": {
      "needs_background": "light"
     },
     "output_type": "display_data"
    },
    {
     "data": {
      "image/png": "[encoded data removed]",
      "text/plain": [
       "<matplotlib.figure.Figure at 0x7fd02cfadcf8>"
      ]
     },
     "metadata": {
      "needs_background": "light"
     },
     "output_type": "display_data"
    }
   ],
   "source": [
    "# Compare the distribution of values for at least five columns where there are\n",
    "# no or few missing values, between the two subsets.\n",
    "\n",
    "value_distribution(cols)"
   ]
  },
  {
   "cell_type": "code",
   "execution_count": 27,
   "metadata": {},
   "outputs": [
    {
     "data": {
      "text/plain": [
       "(797906, 79)"
      ]
     },
     "execution_count": 27,
     "metadata": {},
     "output_type": "execute_result"
    }
   ],
   "source": [
    "# Delete rows that are missing more than 25 feature values.\n",
    "\n",
    "row_to_del = azdias_less_col[azdias_less_col.isnull().sum(axis=1)>=25]\n",
    "azdias_less_row = azdias_less_col.drop(row_to_del.index, axis=0)\n",
    "azdias_less_row.shape"
   ]
  },
  {
   "cell_type": "code",
   "execution_count": 28,
   "metadata": {},
   "outputs": [
    {
     "data": {
      "text/plain": [
       "REGIOTYP               64764\n",
       "KKK                    64764\n",
       "W_KEIT_KIND_HH         59227\n",
       "LP_LEBENSPHASE_FEIN    50078\n",
       "LP_LEBENSPHASE_GROB    47195\n",
       "dtype: int64"
      ]
     },
     "execution_count": 28,
     "metadata": {},
     "output_type": "execute_result"
    }
   ],
   "source": [
    "col_missing_r = azdias_less_row.isna().sum().sort_values(ascending=False)\n",
    "col_missing_r[:5]"
   ]
  },
  {
   "cell_type": "markdown",
   "metadata": {},
   "source": [
    "#### Discussion 1.1.3: Assess Missing Data in Each Row\n",
    "\n",
    "The data is divided into two subsets based on the missing value threshold of 25 per row (person). The group with <25 missing values has 797,906 data entries and the troup with >=25 has 93,315 data entries.\n",
    "\n",
    "When comparing the value distributions for the features (columns) that do not have any missing values (6 randomly selected), the two groups shows large differences in the pattern. In most featres, the group with missing >=25 values tend to have one focused value with high frequencies, instead of spreading between multiple values.\n",
    "\n",
    "This means the group with missing >=25 values has some meaningful patterns of its own, that can be distinguishable from the other groups' pattern.\n",
    "\n",
    "However, per instruction, I removed the rows with >=25 feature values. This resulted in decreased missing values per columns as well. "
   ]
  },
  {
   "cell_type": "markdown",
   "metadata": {},
   "source": [
    "### Step 1.2: Select and Re-Encode Features\n",
    "\n",
    "Checking for missing data isn't the only way in which you can prepare a dataset for analysis. Since the unsupervised learning techniques to be used will only work on data that is encoded numerically, you need to make a few encoding changes or additional assumptions to be able to make progress. In addition, while almost all of the values in the dataset are encoded using numbers, not all of them represent numeric values. Check the third column of the feature summary (`feat_info`) for a summary of types of measurement.\n",
    "- For numeric and interval data, these features can be kept without changes.\n",
    "- Most of the variables in the dataset are ordinal in nature. While ordinal values may technically be non-linear in spacing, make the simplifying assumption that the ordinal variables can be treated as being interval in nature (that is, kept without any changes).\n",
    "- Special handling may be necessary for the remaining two variable types: categorical, and 'mixed'.\n",
    "\n",
    "In the first two parts of this sub-step, you will perform an investigation of the categorical and mixed-type features and make a decision on each of them, whether you will keep, drop, or re-encode each. Then, in the last part, you will create a new data frame with only the selected and engineered columns.\n",
    "\n",
    "Data wrangling is often the trickiest part of the data analysis process, and there's a lot of it to be done here. But stick with it: once you're done with this step, you'll be ready to get to the machine learning parts of the project!"
   ]
  },
  {
   "cell_type": "code",
   "execution_count": 30,
   "metadata": {},
   "outputs": [],
   "source": [
    "# Update feat_info by removing the same 6 outlier columns.\n",
    "feat_info_lc = feat_info.copy()\n",
    "\n",
    "for col_outlier in col_outliers:\n",
    "    feat_info_lc.drop(feat_info_lc[feat_info_lc['attribute'] == col_outlier].index, inplace = True)"
   ]
  },
  {
   "cell_type": "code",
   "execution_count": 31,
   "metadata": {},
   "outputs": [
    {
     "data": {
      "text/plain": [
       "ordinal        49\n",
       "categorical    21\n",
       "numeric         7\n",
       "mixed           7\n",
       "interval        1\n",
       "Name: type, dtype: int64"
      ]
     },
     "execution_count": 31,
     "metadata": {},
     "output_type": "execute_result"
    }
   ],
   "source": [
    "# How many features are there of each data type?\n",
    "feat_info['type'].value_counts()"
   ]
  },
  {
   "cell_type": "code",
   "execution_count": 32,
   "metadata": {},
   "outputs": [
    {
     "data": {
      "text/plain": [
       "ordinal        49\n",
       "categorical    18\n",
       "numeric         6\n",
       "mixed           6\n",
       "Name: type, dtype: int64"
      ]
     },
     "execution_count": 32,
     "metadata": {},
     "output_type": "execute_result"
    }
   ],
   "source": [
    "# After deletion of some columns, feat_info changed a bit. \n",
    "feat_info_lc['type'].value_counts()"
   ]
  },
  {
   "cell_type": "markdown",
   "metadata": {},
   "source": [
    "#### Step 1.2.1: Re-Encode Categorical Features\n",
    "\n",
    "For categorical data, you would ordinarily need to encode the levels as dummy variables. Depending on the number of categories, perform one of the following:\n",
    "- For binary (two-level) categoricals that take numeric values, you can keep them without needing to do anything.\n",
    "- There is one binary variable that takes on non-numeric values. For this one, you need to re-encode the values as numbers or create a dummy variable.\n",
    "- For multi-level categoricals (three or more values), you can choose to encode the values using multiple dummy variables (e.g. via [OneHotEncoder](http://scikit-learn.org/stable/modules/generated/sklearn.preprocessing.OneHotEncoder.html)), or (to keep things straightforward) just drop them from the analysis. As always, document your choices in the Discussion section."
   ]
  },
  {
   "cell_type": "code",
   "execution_count": 33,
   "metadata": {},
   "outputs": [],
   "source": [
    "# Assess categorical variables: which are binary, which are multi-level, and\n",
    "# which one needs to be re-encoded?\n",
    "\n",
    "cat_columns = list(feat_info_lc[feat_info_lc['type'] == 'categorical'].attribute)\n"
   ]
  },
  {
   "cell_type": "code",
   "execution_count": 34,
   "metadata": {},
   "outputs": [
    {
     "data": {
      "text/plain": [
       "ANREDE_KZ            2\n",
       "CJT_GESAMTTYP        6\n",
       "FINANZTYP            6\n",
       "GFK_URLAUBERTYP     12\n",
       "GREEN_AVANTGARDE     2\n",
       "LP_FAMILIE_FEIN     11\n",
       "LP_FAMILIE_GROB      5\n",
       "LP_STATUS_FEIN      10\n",
       "LP_STATUS_GROB       5\n",
       "NATIONALITAET_KZ     3\n",
       "SHOPPER_TYP          4\n",
       "SOHO_KZ              2\n",
       "VERS_TYP             2\n",
       "ZABEOTYP             6\n",
       "GEBAEUDETYP          7\n",
       "OST_WEST_KZ          2\n",
       "CAMEO_DEUG_2015      9\n",
       "CAMEO_DEU_2015      44\n",
       "dtype: int64"
      ]
     },
     "execution_count": 34,
     "metadata": {},
     "output_type": "execute_result"
    }
   ],
   "source": [
    "# 18 Categorical columns - Check the number of unique values.\n",
    "\n",
    "azdias_less_row[cat_columns].nunique()"
   ]
  },
  {
   "cell_type": "code",
   "execution_count": 35,
   "metadata": {},
   "outputs": [
    {
     "name": "stdout",
     "output_type": "stream",
     "text": [
      "2    416089\n",
      "1    381817\n",
      "Name: ANREDE_KZ, dtype: int64\n",
      "4.0    198280\n",
      "3.0    147203\n",
      "2.0    141260\n",
      "5.0    111104\n",
      "6.0    102075\n",
      "1.0     93306\n",
      "Name: CJT_GESAMTTYP, dtype: int64\n",
      "6    289047\n",
      "1    197117\n",
      "5    106321\n",
      "2    104748\n",
      "4     55916\n",
      "3     44757\n",
      "Name: FINANZTYP, dtype: int64\n",
      "12.0    130235\n",
      "10.0    102823\n",
      "8.0      83028\n",
      "11.0     75099\n",
      "5.0      70498\n",
      "4.0      60422\n",
      "9.0      57124\n",
      "3.0      53101\n",
      "1.0      50656\n",
      "2.0      43826\n",
      "7.0      40678\n",
      "6.0      25738\n",
      "Name: GFK_URLAUBERTYP, dtype: int64\n",
      "0    622698\n",
      "1    175208\n",
      "Name: GREEN_AVANTGARDE, dtype: int64\n",
      "1.0     402538\n",
      "10.0    128966\n",
      "2.0      98548\n",
      "11.0     48744\n",
      "8.0      21780\n",
      "7.0      19575\n",
      "4.0      11574\n",
      "5.0      11167\n",
      "9.0      10452\n",
      "6.0       8526\n",
      "3.0       4688\n",
      "Name: LP_FAMILIE_FEIN, dtype: int64\n",
      "1.0    402538\n",
      "5.0    188162\n",
      "2.0     98548\n",
      "4.0     49881\n",
      "3.0     27429\n",
      "Name: LP_FAMILIE_GROB, dtype: int64\n",
      "1.0     206852\n",
      "9.0     136344\n",
      "10.0    111573\n",
      "2.0     111100\n",
      "4.0      73969\n",
      "3.0      68917\n",
      "6.0      28894\n",
      "5.0      27582\n",
      "8.0      18794\n",
      "7.0       9203\n",
      "Name: LP_STATUS_FEIN, dtype: int64\n",
      "1.0    317952\n",
      "2.0    170468\n",
      "4.0    155138\n",
      "5.0    111573\n",
      "3.0     38097\n",
      "Name: LP_STATUS_GROB, dtype: int64\n",
      "1.0    667832\n",
      "2.0     63643\n",
      "3.0     32560\n",
      "Name: NATIONALITAET_KZ, dtype: int64\n",
      "1.0    247373\n",
      "2.0    205926\n",
      "3.0    180813\n",
      "0.0    127123\n",
      "Name: SHOPPER_TYP, dtype: int64\n",
      "0.0    791190\n",
      "1.0      6716\n",
      "Name: SOHO_KZ, dtype: int64\n",
      "2.0    394223\n",
      "1.0    367012\n",
      "Name: VERS_TYP, dtype: int64\n",
      "3    282178\n",
      "4    207510\n",
      "1    123414\n",
      "5     80956\n",
      "6     70860\n",
      "2     32988\n",
      "Name: ZABEOTYP, dtype: int64\n",
      "1.0    460370\n",
      "3.0    178646\n",
      "8.0    152469\n",
      "2.0      4899\n",
      "4.0       897\n",
      "6.0       624\n",
      "5.0         1\n",
      "Name: GEBAEUDETYP, dtype: int64\n",
      "W    629388\n",
      "O    168518\n",
      "Name: OST_WEST_KZ, dtype: int64\n",
      "8    134437\n",
      "9    108176\n",
      "6    105872\n",
      "4    103898\n",
      "3     86754\n",
      "2     83220\n",
      "7     77933\n",
      "5     55299\n",
      "1     36211\n",
      "Name: CAMEO_DEUG_2015, dtype: int64\n",
      "6B    56671\n",
      "8A    52435\n",
      "4C    47814\n",
      "2D    35073\n",
      "3C    34763\n",
      "7A    34399\n",
      "3D    34304\n",
      "8B    33434\n",
      "4A    33149\n",
      "8C    30992\n",
      "9D    28593\n",
      "9B    27676\n",
      "9C    24987\n",
      "7B    24503\n",
      "9A    20542\n",
      "2C    19420\n",
      "8D    17576\n",
      "6E    16107\n",
      "2B    15482\n",
      "5D    14943\n",
      "6C    14820\n",
      "2A    13245\n",
      "5A    12203\n",
      "1D    11909\n",
      "1A    10850\n",
      "3A    10532\n",
      "5B    10354\n",
      "5C     9935\n",
      "7C     9065\n",
      "4B     9045\n",
      "4D     8570\n",
      "3B     7155\n",
      "6A     6809\n",
      "9E     6378\n",
      "6D     6073\n",
      "6F     5392\n",
      "7D     5333\n",
      "4E     5320\n",
      "1E     5065\n",
      "7E     4633\n",
      "1C     4316\n",
      "5F     4283\n",
      "1B     4071\n",
      "5E     3581\n",
      "Name: CAMEO_DEU_2015, dtype: int64\n"
     ]
    }
   ],
   "source": [
    "for i in cat_columns:\n",
    "    X = azdias_less_row[i].value_counts()\n",
    "    print(X)"
   ]
  },
  {
   "cell_type": "code",
   "execution_count": 36,
   "metadata": {},
   "outputs": [
    {
     "data": {
      "text/plain": [
       "1    629388\n",
       "0    168518\n",
       "Name: OST_WEST_KZ, dtype: int64"
      ]
     },
     "execution_count": 36,
     "metadata": {},
     "output_type": "execute_result"
    }
   ],
   "source": [
    "# Re-encode categorical variable(s) to be kept in the analysis.\n",
    "\n",
    "# For the binary variable that takes on non-numeric values ('W' & 'O'): \n",
    "# Re-encode the values as numbers as 1 and 0, respectively.\n",
    "\n",
    "azdias_less_row['OST_WEST_KZ'] = azdias_less_row['OST_WEST_KZ'].map({'W':1, 'O':0})\n",
    "azdias_less_row['OST_WEST_KZ'].value_counts()"
   ]
  },
  {
   "cell_type": "code",
   "execution_count": 37,
   "metadata": {},
   "outputs": [],
   "source": [
    "# I decided to remove columns that have more than 5 unique values/categories.\n",
    "# This will take care of removing the columns with 44 values as well. \n",
    "\n",
    "col_deleted = []\n",
    "\n",
    "for col in cat_columns:\n",
    "    if azdias_less_row[col].nunique() > 5:\n",
    "        col_deleted.append(col)\n",
    "        azdias_less_row = azdias_less_row.drop(col, axis=1)\n",
    "        "
   ]
  },
  {
   "cell_type": "code",
   "execution_count": 38,
   "metadata": {},
   "outputs": [
    {
     "data": {
      "text/plain": [
       "['CJT_GESAMTTYP',\n",
       " 'FINANZTYP',\n",
       " 'GFK_URLAUBERTYP',\n",
       " 'LP_FAMILIE_FEIN',\n",
       " 'LP_STATUS_FEIN',\n",
       " 'ZABEOTYP',\n",
       " 'GEBAEUDETYP',\n",
       " 'CAMEO_DEUG_2015',\n",
       " 'CAMEO_DEU_2015']"
      ]
     },
     "execution_count": 38,
     "metadata": {},
     "output_type": "execute_result"
    }
   ],
   "source": [
    "col_deleted"
   ]
  },
  {
   "cell_type": "code",
   "execution_count": 39,
   "metadata": {},
   "outputs": [
    {
     "data": {
      "text/plain": [
       "(797906, 70)"
      ]
     },
     "execution_count": 39,
     "metadata": {},
     "output_type": "execute_result"
    }
   ],
   "source": [
    "azdias_less_row.shape"
   ]
  },
  {
   "cell_type": "code",
   "execution_count": 40,
   "metadata": {},
   "outputs": [
    {
     "data": {
      "text/plain": [
       "(70, 4)"
      ]
     },
     "execution_count": 40,
     "metadata": {},
     "output_type": "execute_result"
    }
   ],
   "source": [
    "# Update feat_info with the deleted columns(features) for my own use.\n",
    "feat_info_lc2 = feat_info_lc.copy()\n",
    "\n",
    "for col in col_deleted:\n",
    "    feat_info_lc2.drop(feat_info_lc2[feat_info_lc2['attribute'] == col].index, inplace = True)\n",
    "\n",
    "feat_info_lc2.shape"
   ]
  },
  {
   "cell_type": "code",
   "execution_count": 41,
   "metadata": {},
   "outputs": [
    {
     "data": {
      "text/plain": [
       "['LP_FAMILIE_GROB', 'LP_STATUS_GROB', 'NATIONALITAET_KZ', 'SHOPPER_TYP']"
      ]
     },
     "execution_count": 41,
     "metadata": {},
     "output_type": "execute_result"
    }
   ],
   "source": [
    "# Hot-Encode these columns\n",
    "\n",
    "cat_columns_d = feat_info_lc2[feat_info_lc2['type'] == 'categorical'].attribute\n",
    "\n",
    "col_for_dummies = []\n",
    "\n",
    "for col in cat_columns_d:\n",
    "    if azdias_less_row[col].nunique() > 2:\n",
    "        col_for_dummies.append(col)\n",
    "\n",
    "col_for_dummies"
   ]
  },
  {
   "cell_type": "code",
   "execution_count": 42,
   "metadata": {},
   "outputs": [
    {
     "data": {
      "text/plain": [
       "(797906, 83)"
      ]
     },
     "execution_count": 42,
     "metadata": {},
     "output_type": "execute_result"
    }
   ],
   "source": [
    "azdias_hot = pd.get_dummies(azdias_less_row, columns = col_for_dummies)\n",
    "azdias_hot.shape"
   ]
  },
  {
   "cell_type": "markdown",
   "metadata": {},
   "source": [
    "The number of columns increased from 70 to 83 after hot-encoding."
   ]
  },
  {
   "cell_type": "markdown",
   "metadata": {},
   "source": [
    "#### Discussion 1.2.1: Re-Encode Categorical Features\n",
    "\n",
    "There were 18 categorical columns after the first round of data preprocessing. \n",
    "\n",
    "First, for the non_numeric binary feature ('OST_WEST_KZ'), I decided to keep it and re-encode 'W' and 'O' to numeric values '1', and '0', respectively. \n",
    "\n",
    "Second, for columns with features with multiple values more than 2, the number of values generally ranged from 3 to 12, while with one outlier with 44 values. I made a decision to remove features that has more than 5 values. Generally I believe categorical values more than 5 tend to dilute the meaningfulness of each value (too fine-line divisions), thus make them less useful although it can justifiable in some cases.\n",
    "\n",
    "Lastly, the remaining non-binary categorical columns (4 of them) were hot-encoded using get_dummies. As the result, the overall number of columns ended up at 83."
   ]
  },
  {
   "cell_type": "markdown",
   "metadata": {},
   "source": [
    "#### Step 1.2.2: Engineer Mixed-Type Features\n",
    "\n",
    "There are a handful of features that are marked as \"mixed\" in the feature summary that require special treatment in order to be included in the analysis. There are two in particular that deserve attention; the handling of the rest are up to your own choices:\n",
    "- \"PRAEGENDE_JUGENDJAHRE\" combines information on three dimensions: generation by decade, movement (mainstream vs. avantgarde), and nation (east vs. west). While there aren't enough levels to disentangle east from west, you should create two new variables to capture the other two dimensions: an interval-type variable for decade, and a binary variable for movement.\n",
    "- \"CAMEO_INTL_2015\" combines information on two axes: wealth and life stage. Break up the two-digit codes by their 'tens'-place and 'ones'-place digits into two new ordinal variables (which, for the purposes of this project, is equivalent to just treating them as their raw numeric values).\n",
    "- If you decide to keep or engineer new features around the other mixed-type features, make sure you note your steps in the Discussion section.\n",
    "\n",
    "Be sure to check `Data_Dictionary.md` for the details needed to finish these tasks."
   ]
  },
  {
   "cell_type": "code",
   "execution_count": 43,
   "metadata": {},
   "outputs": [
    {
     "data": {
      "text/plain": [
       "['LP_LEBENSPHASE_FEIN',\n",
       " 'LP_LEBENSPHASE_GROB',\n",
       " 'PRAEGENDE_JUGENDJAHRE',\n",
       " 'WOHNLAGE',\n",
       " 'CAMEO_INTL_2015',\n",
       " 'PLZ8_BAUMAX']"
      ]
     },
     "execution_count": 43,
     "metadata": {},
     "output_type": "execute_result"
    }
   ],
   "source": [
    "mix_columns = list(feat_info_lc2[feat_info_lc2['type'] == 'mixed'].attribute)\n",
    "mix_columns"
   ]
  },
  {
   "cell_type": "code",
   "execution_count": 44,
   "metadata": {},
   "outputs": [
    {
     "data": {
      "text/markdown": [
       "# Data Dictionary for Identify Customer Segments Data\n",
       "\n",
       "## Introduction\n",
       "\n",
       "The data for this project consist of two files:\n",
       "\n",
       "- Udacity_AZDIAS_Subset.csv: demographics data for the general population of\n",
       "      Germany; 891211 persons (rows) x 85 features (columns)\n",
       "- Udacity_CUSTOMERS_Subset.csv: demographics data for customers of a mail-order\n",
       "      company; 191652 persons (rows) x 85 features (columns)\n",
       "\n",
       "The columns in the general demographics file and customers data file are the\n",
       "same. This file documents the features that appear in the data files, sorted in\n",
       "order of appearance. Sections of this file is based on the level of measurement\n",
       "of each feature. The file \"AZDIAS_Feature_Summary.csv\" contains a summary of\n",
       "feature attributes, including information level, data type, and codes for\n",
       "missing or unknown values.\n",
       "\n",
       "### Table of Contents\n",
       "\n",
       " 1. Person-level features\n",
       " 2. Household-level features\n",
       " 3. Building-level features\n",
       " 4. RR4 micro-cell features\n",
       " 5. RR3 micro-cell features\n",
       " 6. Postcode-level features\n",
       " 7. RR1 neighborhood features\n",
       " 8. PLZ8 macro-cell features\n",
       " 9. Community-level features\n",
       "\n",
       "-----\n",
       "\n",
       "## 1. Person-level features\n",
       "\n",
       "### 1.1. AGER_TYP\n",
       "Best-ager typology\n",
       "- -1: unknown\n",
       "-  0: no classification possible\n",
       "-  1: passive elderly\n",
       "-  2: cultural elderly\n",
       "-  3: experience-driven elderly\n",
       "\n",
       "### 1.2. ALTERSKATEGORIE_GROB\n",
       "Estimated age based on given name analysis\n",
       "- -1: unknown (missing)\n",
       "-  0: unknown (cannot be determined)\n",
       "-  1: < 30 years old\n",
       "-  2: 30 - 45 years old\n",
       "-  3: 46 - 60 years old\n",
       "-  4: > 60 years old\n",
       "-  9: uniformly distributed\n",
       "\n",
       "### 1.3. ANREDE_KZ\n",
       "Gender\n",
       "- -1: unknown (missing)\n",
       "-  0: unknown (cannot be determined)\n",
       "-  1: male\n",
       "-  2: female\n",
       "\n",
       "### 1.4. CJT_GESAMTTYP\n",
       "Customer-Journey-Typology: preferred information and buying channels for\n",
       "consumer\n",
       "- 0: unknown\n",
       "- 1: Advertising- and Consumptionminimalist\n",
       "- 2: Advertising- and Consumptiontraditionalist\n",
       "- 3: advertisinginterested Store-shopper\n",
       "- 4: advertisinginterested Online-shopper\n",
       "- 5: Advertising- and Cross-Channel-Enthusiast\n",
       "- 6: Advertising-Enthusiast with restricted Cross-Channel-Behaviour\n",
       "\n",
       "### 1.5. FINANZ_MINIMALIST, FINANZ_SPARER, FINANZ_VORSORGER, FINANZ_ANLEGER,\n",
       "###      FINANZ_UNAUFFAELLIGER, FINANZ_HAUSBAUER\n",
       "Financial typology, for each dimension:\n",
       "- -1: unknown\n",
       "-  1: very high\n",
       "-  2: high\n",
       "-  3: average\n",
       "-  4: low\n",
       "-  5: very low\n",
       "\n",
       "Dimension translations:\n",
       "- MINIMALIST: low financial interest\n",
       "- SPARER: money-saver\n",
       "- VORSORGER: be prepared\n",
       "- ANLEGER: investor\n",
       "- UNAUFFAELLIGER: inconspicuous\n",
       "- HAUSBAUER: home ownership\n",
       "\n",
       "### 1.6. FINANZTYP\n",
       "Most descriptive financial type for individual\n",
       "- -1: unknown\n",
       "-  1: low financial interest (MINIMALIST)\n",
       "-  2: money-saver (SPARER)\n",
       "-  3: home ownership (HAUSBAUER)\n",
       "-  4: be prepared (VORSORGER)\n",
       "-  5: investor (ANLEGER)\n",
       "-  6: inconspicuous (UNAUFFAELLIGER)\n",
       "\n",
       "### 1.7. GEBURTSJAHR\n",
       "Year of birth\n",
       "- missing data encoded as 0\n",
       "\n",
       "### 1.8. GFK_URLAUBERTYP\n",
       "Vacation habits\n",
       "-  1: Event travelers\n",
       "-  2: Family-oriented vacationists\n",
       "-  3: Winter sportspeople\n",
       "-  4: Culture lovers\n",
       "-  5: Nature fans\n",
       "-  6: Hiker\n",
       "-  7: Golden ager\n",
       "-  8: Homeland-connected vacationists\n",
       "-  9: Package tour travelers\n",
       "- 10: Connoisseurs\n",
       "- 11: Active families\n",
       "- 12: Without vacation\n",
       "\n",
       "### 1.9. GREEN_AVANTGARDE\n",
       "Membership in environmental sustainability as part of youth\n",
       "- 0: not a member of green avantgarde\n",
       "- 1: member of green avantgarde\n",
       "\n",
       "### 1.10. HEALTH_TYP\n",
       "Health typology\n",
       "- -1: unknown\n",
       "-  0: classification not possible\n",
       "-  1: critical reserved\n",
       "-  2: sanitary affine  \n",
       "-  3: jaunty hedonists\n",
       "\n",
       "### 1.11. LP_LEBENSPHASE_FEIN\n",
       "Life stage, fine scale\n",
       "-  1: single low-income earners of younger age\n",
       "-  2: single low-income earners of middle age\n",
       "-  3: single average earners of younger age\n",
       "-  4: single average earners of middle age\n",
       "-  5: single low-income earners of advanced age\n",
       "-  6: single low-income earners at retirement age\n",
       "-  7: single average earners of advanced age\n",
       "-  8: single average earners at retirement age\n",
       "-  9: single independent persons\n",
       "- 10: wealthy single homeowners\n",
       "- 11: single homeowners of advanced age\n",
       "- 12: single homeowners at retirement age\n",
       "- 13: single top earners of higher age\n",
       "- 14: low-income and average earner couples of younger age\n",
       "- 15: low-income earner couples of higher age\n",
       "- 16: average earner couples of higher age\n",
       "- 17: independent couples\n",
       "- 18: wealthy homeowner couples of younger age\n",
       "- 19: homeowner couples of higher age\n",
       "- 20: top earner couples of higher age\n",
       "- 21: single parent low-income earners\n",
       "- 22: single parent average earners\n",
       "- 23: single parent high-income earners\n",
       "- 24: low-income earner families\n",
       "- 25: average earner families\n",
       "- 26: independent families\n",
       "- 27: homeowner families\n",
       "- 28: top earner families\n",
       "- 29: low-income earners of younger age from multiperson households\n",
       "- 30: average earners of younger age from multiperson households\n",
       "- 31: low-income earners of higher age from multiperson households\n",
       "- 32: average earners of higher age from multiperson households\n",
       "- 33: independent persons of younger age from multiperson households\n",
       "- 34: homeowners of younger age from multiperson households\n",
       "- 35: top earners of younger age from multiperson households\n",
       "- 36: independent persons of higher age from multiperson households\n",
       "- 37: homeowners of advanced age from multiperson households\n",
       "- 38: homeowners at retirement age from multiperson households\n",
       "- 39: top earners of middle age from multiperson households\n",
       "- 40: top earners at retirement age from multiperson households\n",
       "\n",
       "### 1.12. LP_LEBENSPHASE_GROB\n",
       "Life stage, rough scale\n",
       "-  1: single low-income and average earners of younger age\n",
       "-  2: single low-income and average earners of higher age\n",
       "-  3: single high-income earners\n",
       "-  4: single low-income and average-earner couples\n",
       "-  5: single high-income earner couples\n",
       "-  6: single parents\n",
       "-  7: single low-income and average earner families\n",
       "-  8: high-income earner families\n",
       "-  9: average earners of younger age from multiperson households\n",
       "- 10: low-income and average earners of higher age from multiperson households\n",
       "- 11: high-income earners of younger age from multiperson households\n",
       "- 12: high-income earners of higher age from multiperson households\n",
       "\n",
       "### 1.13. LP_FAMILIE_FEIN\n",
       "Family type, fine scale\n",
       "-  0: unknown\n",
       "-  1: single\n",
       "-  2: couple\n",
       "-  3: young single parent\n",
       "-  4: single parent with teenager\n",
       "-  5: single parent with child of full age\n",
       "-  6: young family\n",
       "-  7: family with teenager\n",
       "-  8: family with child of full age\n",
       "-  9: shared flat\n",
       "- 10: two-generational household\n",
       "- 11: multi-generational household\n",
       "\n",
       "### 1.14. LP_FAMILIE_GROB\n",
       "Family type, rough scale\n",
       "- 0: unknown\n",
       "- 1: single (maps to 1 in fine scale)\n",
       "- 2: couple (maps to 2 in fine scale)\n",
       "- 3: single parent (maps to 3-5 in fine scale)\n",
       "- 4: family (maps to 6-8 in fine scale)\n",
       "- 5: multiperson household (maps to 9-11 in fine scale)\n",
       "\n",
       "### 1.15. LP_STATUS_FEIN\n",
       "Social status, fine scale\n",
       "-  1: typical low-income earners\n",
       "-  2: orientation-seeking low-income earners\n",
       "-  3: aspiring low-income earners\n",
       "-  4: villagers\n",
       "-  5: minimalistic high-income earners\n",
       "-  6: independent workers\n",
       "-  7: title holder-households\n",
       "-  8: new houseowners\n",
       "-  9: houseowners\n",
       "- 10: top earners\n",
       "\n",
       "### 1.16. LP_STATUS_GROB\n",
       "Social status, rough scale\n",
       "- 1: low-income earners (maps to 1-2 in fine scale)\n",
       "- 2: average earners (maps to 3-5 in fine scale)\n",
       "- 3: independents (maps to 6-7 in fine scale)\n",
       "- 4: houseowners (maps to 8-9 in fine scale)\n",
       "- 5: top earners (maps to 10 in fine scale)\n",
       "\n",
       "### 1.17. NATIONALITAET_KZ\n",
       "Nationality based on given name analysis\n",
       "- -1: unknown\n",
       "-  0: unknown\n",
       "-  1: German-sounding\n",
       "-  2: foreign-sounding\n",
       "-  3: assimilated names\n",
       "\n",
       "### 1.18. PRAEGENDE_JUGENDJAHRE\n",
       "Dominating movement of person's youth (avantgarde vs. mainstream; east vs. west)\n",
       "- -1: unknown\n",
       "-  0: unknown\n",
       "-  1: 40s - war years (Mainstream, E+W)\n",
       "-  2: 40s - reconstruction years (Avantgarde, E+W)\n",
       "-  3: 50s - economic miracle (Mainstream, E+W)\n",
       "-  4: 50s - milk bar / Individualisation (Avantgarde, E+W)\n",
       "-  5: 60s - economic miracle (Mainstream, E+W)\n",
       "-  6: 60s - generation 68 / student protestors (Avantgarde, W)\n",
       "-  7: 60s - opponents to the building of the Wall (Avantgarde, E)\n",
       "-  8: 70s - family orientation (Mainstream, E+W)\n",
       "-  9: 70s - peace movement (Avantgarde, E+W)\n",
       "- 10: 80s - Generation Golf (Mainstream, W)\n",
       "- 11: 80s - ecological awareness (Avantgarde, W)\n",
       "- 12: 80s - FDJ / communist party youth organisation (Mainstream, E)\n",
       "- 13: 80s - Swords into ploughshares (Avantgarde, E)\n",
       "- 14: 90s - digital media kids (Mainstream, E+W)\n",
       "- 15: 90s - ecological awareness (Avantgarde, E+W)\n",
       "\n",
       "### 1.19. RETOURTYP_BK_S\n",
       "Return type\n",
       "- 0: unknown\n",
       "- 1: influenceable Crazy-Shopper\n",
       "- 2: demanding Heavy-Returner\n",
       "- 3: incentive-receptive Normal-Returner\n",
       "- 4: conservative Low-Returner\n",
       "- 5: determined Minimal-Returner\n",
       "\n",
       "### 1.20. SEMIO_SOZ, SEMIO_FAM, SEMIO_REL, SEMIO_MAT, SEMIO_VERT, SEMIO_LUST,\n",
       "###       SEMIO_ERL, SEMIO_KULT, SEMIO_RAT, SEMIO_KRIT, SEMIO_DOM, SEMIO_KAEM,\n",
       "###       SEMIO_PFLICHT, SEMIO_TRADV\n",
       "Personality typology, for each dimension:\n",
       "- -1: unknown\n",
       "-  1: highest affinity\n",
       "-  2: very high affinity\n",
       "-  3: high affinity\n",
       "-  4: average affinity\n",
       "-  5: low affinity\n",
       "-  6: very low affinity\n",
       "-  7: lowest affinity\n",
       "-  9: unknown\n",
       "\n",
       "Dimension translations:\n",
       "- SOZ: socially-minded\n",
       "- FAM: family-minded\n",
       "- REL: religious\n",
       "- MAT: materialistic\n",
       "- VERT: dreamful\n",
       "- LUST: sensual-minded\n",
       "- ERL: event-oriented\n",
       "- KULT: cultural-minded\n",
       "- RAT: rational\n",
       "- KRIT: critical-minded\n",
       "- DOM: dominant-minded\n",
       "- KAEM: combative attitude\n",
       "- PFLICHT: dutiful\n",
       "- TRADV: tradional-minded\n",
       "\n",
       "### 1.21. SHOPPER_TYP\n",
       "Shopper typology\n",
       "- -1: unknown\n",
       "-  0: external supplied hedonists\n",
       "-  1: Shopping-stressed\n",
       "-  2: family-shopper\n",
       "-  3: demanding shopper\n",
       "\n",
       "### 1.22. SOHO_KZ\n",
       "Small office / home office flag\n",
       "- -1: unknown\n",
       "- 0: no small office/home office\n",
       "- 1: small office/home office\n",
       "\n",
       "### 1.23. TITEL_KZ\n",
       "Academic title flag\n",
       "- -1: unknown\n",
       "-  0: unknown\n",
       "-  1: Dr.\n",
       "-  2: Dr. Dr.\n",
       "-  3: Prof.\n",
       "-  4: Prof. Dr.\n",
       "-  5: other\n",
       "\n",
       "### 1.24. VERS_TYP\n",
       "Insurance typology\n",
       "- -1: unknown\n",
       "-  1: social-safety driven\n",
       "-  2: individualistic-accepting risks\n",
       "\n",
       "### 1.25. ZABEOTYP\n",
       "Energy consumption typology\n",
       "- -1: unknown\n",
       "-  1: green\n",
       "-  2: smart\n",
       "-  3: fair supplied\n",
       "-  4: price driven\n",
       "-  5: seeking orientation\n",
       "-  6: indifferent\n",
       "-  9: unknown\n",
       "\n",
       "-----\n",
       "\n",
       "## 2. Household-level features\n",
       "\n",
       "### 2.1. ALTER_HH\n",
       "Birthdate of head of household\n",
       "-  0: unknown / no main age detectable\n",
       "-  1: 1895-01-01 to 1899-12-31\n",
       "-  2: 1900-01-01 to 1904-12-31\n",
       "-  3: 1905-01-01 to 1909-12-31\n",
       "-  4: 1910-01-01 to 1914-12-31\n",
       "-  5: 1915-01-01 to 1919-12-31\n",
       "-  6: 1920-01-01 to 1924-12-31\n",
       "-  7: 1925-01-01 to 1929-12-31\n",
       "-  8: 1930-01-01 to 1934-12-31\n",
       "-  9: 1935-01-01 to 1939-12-31\n",
       "- 10: 1940-01-01 to 1944-12-31\n",
       "- 11: 1945-01-01 to 1949-12-31\n",
       "- 12: 1950-01-01 to 1954-12-31\n",
       "- 13: 1955-01-01 to 1959-12-31\n",
       "- 14: 1960-01-01 to 1964-12-31\n",
       "- 15: 1965-01-01 to 1969-12-31\n",
       "- 16: 1970-01-01 to 1974-12-31\n",
       "- 17: 1975-01-01 to 1979-12-31\n",
       "- 18: 1980-01-01 to 1984-12-31\n",
       "- 19: 1985-01-01 to 1989-12-31\n",
       "- 20: 1990-01-01 to 1994-12-31\n",
       "- 21: 1995-01-01 to 1999-12-31\n",
       "\n",
       "### 2.2. ANZ_PERSONEN\n",
       "Number of adults in household\n",
       "\n",
       "### 2.3. ANZ_TITEL\n",
       "Number of professional academic title holders in household\n",
       "\n",
       "### 2.4. HH_EINKOMMEN_SCORE\n",
       "Estimated household net income\n",
       "- -1: unknown\n",
       "-  0: unknown\n",
       "-  1: highest income\n",
       "-  2: very high income\n",
       "-  3: high income\n",
       "-  4: average income\n",
       "-  5: lower income\n",
       "-  6: very low income\n",
       "\n",
       "### 2.5. KK_KUNDENTYP\n",
       "Consumer pattern over past 12 months\n",
       "- -1: unknown\n",
       "-  1: regular customer\n",
       "-  2: active customer\n",
       "-  3: new costumer\n",
       "-  4: stray customer\n",
       "-  5: inactive customer\n",
       "-  6: passive customer\n",
       "\n",
       "### 2.6. W_KEIT_KIND_HH\n",
       "Likelihood of children in household\n",
       "- -1: unknown\n",
       "-  0: unknown\n",
       "-  1: most likely\n",
       "-  2: very likely\n",
       "-  3: likely\n",
       "-  4: average\n",
       "-  5: unlikely\n",
       "-  6: very unlikely\n",
       "\n",
       "### 2.7. WOHNDAUER_2008\n",
       "Length of residence\n",
       "- -1: unknown\n",
       "-  0: unknown\n",
       "-  1: length of residence less than 1 year\n",
       "-  2: length of residence 1-2 years\n",
       "-  3: length of residence 2-3 years\n",
       "-  4: length of residence 3-4 years\n",
       "-  5: length of residence 4-5 years\n",
       "-  6: length of residence 5-6 years\n",
       "-  7: length of residence 6-7 years\n",
       "-  8: length of residence 7-10 years\n",
       "-  9: length of residence more than 10 years\n",
       "\n",
       "-----\n",
       "\n",
       "## 3. Building-level features\n",
       "\n",
       "### 3.1. ANZ_HAUSHALTE_AKTIV\n",
       "Number of households in the building\n",
       "- missing values encoded by 0\n",
       "\n",
       "### 3.2. ANZ_HH_TITEL\n",
       "Number of professional academic title holders in building\n",
       "\n",
       "### 3.3. GEBAEUDETYP\n",
       "Type of building (residential vs. commercial)\n",
       "- -1: unknown\n",
       "-  0: unknown\n",
       "-  1: residential building\n",
       "-  2: residential building buildings without actually known household\n",
       "-  3: mixed (=residential and company) building\n",
       "-  4: mixed building without actually known household or company\n",
       "-  5: company building w/o known company\n",
       "-  6: mixed building without actually known household\n",
       "-  7: company building\n",
       "-  8: mixed building without actually known company\n",
       "\n",
       "### 3.4. KONSUMNAEHE\n",
       "Distance from building to point of sale (PoS)\n",
       "- 1: building is located in a 125 x 125m grid cell (RA1), which is a\n",
       "     consumption cell\n",
       "- 2: building is located in a 250 x 250m grid cell that includes at least one\n",
       "     RA1-consumption cell\n",
       "- 3: building is located in a 500 x 500m grid cell that includes at least one\n",
       "     RA1-consumption cell\n",
       "- 4: building is located in a 1 x 1km grid cell that includes at least one\n",
       "     RA1-consumption cell\n",
       "- 5: building is located in a 2 x 2km grid cell that includes at least one\n",
       "     RA1-consumption cell\n",
       "- 6: building is located in a 10 x 10km grid cell that includes at least one\n",
       "     RA1-consumption cell\n",
       "- 7: building is not located in a 10 x 10km range of a consumption cell\n",
       "\n",
       "### 3.5. MIN_GEBAEUDEJAHR\n",
       "First year building was mentioned in the database\n",
       "- missing values encoded by 0\n",
       "\n",
       "### 3.6. OST_WEST_KZ\n",
       "Building location via former East / West Germany (GDR / FRG)\n",
       "- -1: unknown\n",
       "-  O: East (GDR)\n",
       "-  W: West (FRG)\n",
       "\n",
       "### 3.7. WOHNLAGE\n",
       "Neighborhood quality (or rural flag)\n",
       "- -1: unknown\n",
       "-  0: no score calculated\n",
       "-  1: very good neighborhood\n",
       "-  2: good neighborhood\n",
       "-  3: average neighborhood\n",
       "-  4: poor neighborhood\n",
       "-  5: very poor neighborhood\n",
       "-  7: rural neighborhood\n",
       "-  8: new building in rural neighborhood\n",
       "\n",
       "-----\n",
       "\n",
       "## 4. RR4 micro-cell features\n",
       "\n",
       "### 4.1. CAMEO_DEUG_2015\n",
       "German CAMEO: Wealth / Life Stage Typology, rough scale\n",
       "- -1: unknown\n",
       "-  1: upper class\n",
       "-  2: upper middleclass\n",
       "-  3: established middleclass\n",
       "-  4: consumption-oriented middleclass\n",
       "-  5: active middleclass\n",
       "-  6: low-consumption middleclass\n",
       "-  7: lower middleclass\n",
       "-  8: working class\n",
       "-  9: urban working class\n",
       "-  X: unknown\n",
       "\n",
       "### 4.2. CAMEO_DEU_2015\n",
       "German CAMEO: Wealth / Life Stage Typology, detailed scale\n",
       "- 1A: Work-Life-Balance\n",
       "- 1B: Wealthy Best Ager\n",
       "- 1C: Successful Songwriter\n",
       "- 1D: Old Nobility\n",
       "- 1E: City Nobility\n",
       "- 2A: Cottage Chic\n",
       "- 2B: Noble Jogger\n",
       "- 2C: Established gourmet\n",
       "- 2D: Fine Management\n",
       "- 3A: Career & Family\n",
       "- 3B: Powershopping Families\n",
       "- 3C: Rural Neighborhood\n",
       "- 3D: Secure Retirement\n",
       "- 4A: Family Starter\n",
       "- 4B: Family Life\n",
       "- 4C: String Trimmer\n",
       "- 4D: Empty Nest\n",
       "- 4E: Golden Ager\n",
       "- 5A: Younger Employees\n",
       "- 5B: Suddenly Family\n",
       "- 5C: Family First\n",
       "- 5D: Stock Market Junkies\n",
       "- 5E: Coffee Rider\n",
       "- 5F: Active Retirement\n",
       "- 6A: Jobstarter\n",
       "- 6B: Petty Bourgeois\n",
       "- 6C: Long-established\n",
       "- 6D: Sportgardener\n",
       "- 6E: Urban Parents\n",
       "- 6F: Frugal Aging\n",
       "- 7A: Journeymen\n",
       "- 7B: Mantaplatte\n",
       "- 7C: Factory Worker\n",
       "- 7D: Rear Window\n",
       "- 7E: Interested Retirees\n",
       "- 8A: Multi-culteral\n",
       "- 8B: Young & Mobile\n",
       "- 8C: Prefab\n",
       "- 8D: Town Seniors\n",
       "- 9A: First Shared Apartment\n",
       "- 9B: Temporary Workers\n",
       "- 9C: Afternoon Talk Show\n",
       "- 9D: Mini-Jobber\n",
       "- 9E: Socking Away\n",
       "- XX: unknown\n",
       "\n",
       "### 4.3. CAMEO_INTL_2015\n",
       "German CAMEO: Wealth / Life Stage Typology, mapped to international code\n",
       "- -1: unknown\n",
       "- 11: Wealthy Households - Pre-Family Couples & Singles\n",
       "- 12: Wealthy Households - Young Couples With Children\n",
       "- 13: Wealthy Households - Families With School Age Children\n",
       "- 14: Wealthy Households - Older Families &  Mature Couples\n",
       "- 15: Wealthy Households - Elders In Retirement\n",
       "- 21: Prosperous Households - Pre-Family Couples & Singles\n",
       "- 22: Prosperous Households - Young Couples With Children\n",
       "- 23: Prosperous Households - Families With School Age Children\n",
       "- 24: Prosperous Households - Older Families & Mature Couples\n",
       "- 25: Prosperous Households - Elders In Retirement\n",
       "- 31: Comfortable Households - Pre-Family Couples & Singles\n",
       "- 32: Comfortable Households - Young Couples With Children\n",
       "- 33: Comfortable Households - Families With School Age Children\n",
       "- 34: Comfortable Households - Older Families & Mature Couples\n",
       "- 35: Comfortable Households - Elders In Retirement\n",
       "- 41: Less Affluent Households - Pre-Family Couples & Singles\n",
       "- 42: Less Affluent Households - Young Couples With Children\n",
       "- 43: Less Affluent Households - Families With School Age Children\n",
       "- 44: Less Affluent Households - Older Families & Mature Couples\n",
       "- 45: Less Affluent Households - Elders In Retirement\n",
       "- 51: Poorer Households - Pre-Family Couples & Singles\n",
       "- 52: Poorer Households - Young Couples With Children\n",
       "- 53: Poorer Households - Families With School Age Children\n",
       "- 54: Poorer Households - Older Families & Mature Couples\n",
       "- 55: Poorer Households - Elders In Retirement\n",
       "- XX: unknown\n",
       "\n",
       "-----\n",
       "\n",
       "## 5. RR3 micro-cell features\n",
       "\n",
       "### 5.1. KBA05_ANTG1\n",
       "Number of 1-2 family houses in the microcell\n",
       "- -1: unknown\n",
       "-  0: no 1-2 family homes\n",
       "-  1: lower share of 1-2 family homes\n",
       "-  2: average share of 1-2 family homes\n",
       "-  3: high share of 1-2 family homes\n",
       "-  4: very high share of 1-2 family homes\n",
       "\n",
       "### 5.2. KBA05_ANTG2\n",
       "Number of 3-5 family houses in the microcell\n",
       "- -1: unknown\n",
       "-  0: no 3-5 family homes\n",
       "-  1: lower share of 3-5 family homes\n",
       "-  2: average share of 3-5 family homes\n",
       "-  3: high share of 3-5 family homes\n",
       "-  4: very high share of 3-5 family homes\n",
       "\n",
       "### 5.3. KBA05_ANTG3\n",
       "Number of 6-10 family houses in the microcell\n",
       "- -1: unknown\n",
       "-  0: no 6-10 family homes\n",
       "-  1: lower share of 6-10 family homes\n",
       "-  2: average share of 6-10 family homes\n",
       "-  3: high share of 6-10 family homes\n",
       "\n",
       "### 5.4. KBA05_ANTG4\n",
       "Number of 10+ family houses in the microcell\n",
       "- -1: unknown\n",
       "-  0: no 10+ family homes\n",
       "-  1: lower share of 10+ family homes\n",
       "-  2: high share of 10+ family homes\n",
       "\n",
       "### 5.5. KBA05_BAUMAX\n",
       "Most common building type within the microcell\n",
       "- -1: unknown\n",
       "-  0: unknown\n",
       "-  1: mainly 1-2 family homes in the microcell\n",
       "-  2: mainly 3-5 family homes in the microcell\n",
       "-  3: mainly 6-10 family homes in the microcell\n",
       "-  4: mainly 10+ family homes in the microcell\n",
       "-  5: mainly business buildings in the microcell\n",
       "\n",
       "### 5.6. KBA05_GBZ\n",
       "Number of buildings in the microcell\n",
       "- -1: unknown\n",
       "-  0: unknown\n",
       "-  1: 1-2 buildings\n",
       "-  2: 3-4 buildings\n",
       "-  3: 5-16 buildings\n",
       "-  4: 17-22 buildings\n",
       "-  5: >=23 buildings\n",
       "\n",
       "-----\n",
       "\n",
       "## 6. Postcode-level features\n",
       "\n",
       "### 6.1. BALLRAUM\n",
       "Distance to nearest urban center\n",
       "- -1: unknown\n",
       "-  1: less than 10 km\n",
       "-  2: 10 -  20 km\n",
       "-  3: 20 -  30 km\n",
       "-  4: 30 -  40 km\n",
       "-  5: 40 -  50 km\n",
       "-  6: 50 - 100 km\n",
       "-  7: more than 100 km\n",
       "\n",
       "### 6.2. EWDICHTE\n",
       "Density of households per square kilometer\n",
       "- -1: unknown\n",
       "-  1: less than 34 households per km^2\n",
       "-  2:  34 -  89 households per km^2\n",
       "-  3:  90 - 149 households per km^2\n",
       "-  4: 150 - 319 households per km^2\n",
       "-  5: 320 - 999 households per km^2\n",
       "-  6: more than 999 households per km^2\n",
       "\n",
       "### 6.3. INNENSTADT\n",
       "Distance to city center (downtown)\n",
       "- -1: unknown\n",
       "-  1: in city center\n",
       "-  2: less than 3 km to city center\n",
       "-  3:  3 -  5 km to city center\n",
       "-  4:  5 - 10 km to city center\n",
       "-  5: 10 - 20 km to city center\n",
       "-  6: 20 - 30 km to city center\n",
       "-  7: 30 - 40 km to city center\n",
       "-  8: more than 40 km to city center\n",
       "\n",
       "-----\n",
       "\n",
       "## 7. RR1 region features\n",
       "\n",
       "### 7.1. GEBAEUDETYP_RASTER\n",
       "Ratio of residential to commercial activity\n",
       "- 1: business cell\n",
       "- 2: mixed cell with high business share\n",
       "- 3: mixed cell with middle business share\n",
       "- 4: mixed cell with low business share\n",
       "- 5: residential cell\n",
       "\n",
       "### 7.2. KKK\n",
       "Purchasing power in region\n",
       "- -1; unknown\n",
       "-  0: unknown\n",
       "-  1: very high\n",
       "-  2: high\n",
       "-  3: average\n",
       "-  4: low\n",
       "\n",
       "### 7.3. MOBI_REGIO\n",
       "Movement patterns\n",
       "- 1: very high movement\n",
       "- 2: high movement\n",
       "- 3: middle movement\n",
       "- 4: low movement\n",
       "- 5: very low movement\n",
       "- 6: none\n",
       "\n",
       "### 7.4. ONLINE_AFFINITAET\n",
       "Online affinity\n",
       "- 0: none\n",
       "- 1: low\n",
       "- 2: middle\n",
       "- 3: high\n",
       "- 4: very high\n",
       "- 5: highest\n",
       "\n",
       "### 7.5. REGIOTYP\n",
       "Neighborhood typology\n",
       "- -1: unknown\n",
       "-  0: unknown\n",
       "-  1: upper class\n",
       "-  2: conservatives\n",
       "-  3: upper middle class\n",
       "-  4: middle class\n",
       "-  5: lower middle class\n",
       "-  6: traditional workers\n",
       "-  7: marginal groups\n",
       "\n",
       "-----\n",
       "\n",
       "## 8. PLZ8 macro-cell features\n",
       "\n",
       "### 8.1. KBA13_ANZAHL_PKW\n",
       "Number of cars in the PLZ8 region\n",
       "\n",
       "### 8.2. PLZ8_ANTG1\n",
       "Number of 1-2 family houses in the PLZ8 region\n",
       "- -1: unknown\n",
       "-  0: no 1-2 family homes\n",
       "-  1: lower share of 1-2 family homes\n",
       "-  2: average share of 1-2 family homes\n",
       "-  3: high share of 1-2 family homes\n",
       "-  4: very high share of 1-2 family homes\n",
       "\n",
       "### 8.3. PLZ8_ANTG2\n",
       "Number of 3-5 family houses in the PLZ8 region\n",
       "- -1: unknown\n",
       "-  0: no 3-5 family homes\n",
       "-  1: lower share of 3-5 family homes\n",
       "-  2: average share of 3-5 family homes\n",
       "-  3: high share of 3-5 family homes\n",
       "-  4: very high share of 3-5 family homes\n",
       "\n",
       "### 8.4. PLZ8_ANTG3\n",
       "Number of 6-10 family houses in the PLZ8 region\n",
       "- -1: unknown\n",
       "-  0: no 6-10 family homes\n",
       "-  1: lower share of 6-10 family homes\n",
       "-  2: average share of 6-10 family homes\n",
       "-  3: high share of 6-10 family homes\n",
       "\n",
       "### 8.5. PLZ8_ANTG4\n",
       "Number of 10+ family houses in the PLZ8 region\n",
       "- -1: unknown\n",
       "-  0: no 10+ family homes\n",
       "-  1: lower share of 10+ family homes\n",
       "-  2: high share of 10+ family homes\n",
       "\n",
       "### 8.6. PLZ8_BAUMAX\n",
       "Most common building type within the PLZ8 region\n",
       "- -1: unknown\n",
       "-  0: unknown\n",
       "-  1: mainly 1-2 family homes\n",
       "-  2: mainly 3-5 family homes\n",
       "-  3: mainly 6-10 family homes\n",
       "-  4: mainly 10+ family homes\n",
       "-  5: mainly business buildings\n",
       "\n",
       "### 8.7. PLZ8_HHZ\n",
       "Number of households within the PLZ8 region\n",
       "- -1: unknown\n",
       "-  1: less than 130 households\n",
       "-  2: 131-299 households\n",
       "-  3: 300-599 households\n",
       "-  4: 600-849 households\n",
       "-  5: more than 849 households\n",
       "\n",
       "### 8.8. PLZ8_GBZ\n",
       "Number of buildings within the PLZ8 region\n",
       "- -1: unknown\n",
       "-  1: less than 60 buildings\n",
       "-  2:  60-129 buildings\n",
       "-  3: 130-299 buildings\n",
       "-  4: 300-449 buildings\n",
       "-  5: more than 449 buildings\n",
       "\n",
       "-----\n",
       "\n",
       "## 9. Community-level features\n",
       "\n",
       "### 9.1. ARBEIT\n",
       "Share of unemployment in community\n",
       "- -1: unknown\n",
       "-  1: very low\n",
       "-  2: low\n",
       "-  3: average\n",
       "-  4: high\n",
       "-  5: very high\n",
       "-  9: unknown\n",
       "\n",
       "### 9.2. ORTSGR_KLS9\n",
       "Size of community\n",
       "- -1: unknown\n",
       "-  1: <= 2,000 inhabitants\n",
       "-  2:   2,001 to   5,000 inhabitants\n",
       "-  3:   5,001 to  10,000 inhabitants\n",
       "-  4:  10,001 to  20,000 inhabitants\n",
       "-  5:  20,001 to  50,000 inhabitants\n",
       "-  6:  50,001 to 100,000 inhabitants\n",
       "-  7: 100,001 to 300,000 inhabitants\n",
       "-  8: 300,001 to 700,000 inhabitants\n",
       "-  9: > 700,000  inhabitants\n",
       "\n",
       "### 9.3. RELAT_AB\n",
       "Share of unemployment relative to county in which community is contained\n",
       "- -1: unknown\n",
       "-  1: very low\n",
       "-  2: low\n",
       "-  3: average\n",
       "-  4: high\n",
       "-  5: very high\n",
       "-  9: unknown\n"
      ],
      "text/plain": [
       "<IPython.core.display.Markdown object>"
      ]
     },
     "execution_count": 44,
     "metadata": {},
     "output_type": "execute_result"
    }
   ],
   "source": [
    "from IPython.display import Markdown, display\n",
    "\n",
    "Markdown(open('Data_Dictionary.md', encoding='utf-8').read())"
   ]
  },
  {
   "cell_type": "code",
   "execution_count": 45,
   "metadata": {},
   "outputs": [],
   "source": [
    "azdias_enc = azdias_hot"
   ]
  },
  {
   "cell_type": "code",
   "execution_count": 46,
   "metadata": {},
   "outputs": [],
   "source": [
    "# Investigate \"PRAEGENDE_JUGENDJAHRE\" and engineer two new variables.\n",
    "\n",
    "# Create new two colums to capture 'decade' and 'movement'\n",
    "# Map original values to new values in the new columns\n",
    "# Mainstream = 0 and Avantgarde = 1\n",
    "\n",
    "azdias_enc['PRAEGENDE_JUGENDJAHRE_Decade'] \\\n",
    "= azdias_enc['PRAEGENDE_JUGENDJAHRE'].map({1:1, 2:1, 3:2, \\\n",
    "4:2, 5:3, 6:3, 7:3, 8:4, 9:4, 10:5, 11:5, 12:5, 13:5, 14:6, 15:6})\n",
    "\n",
    "azdias_enc['PRAEGENDE_JUGENDJAHRE_Move'] \\\n",
    "= azdias_enc['PRAEGENDE_JUGENDJAHRE'].map({1:0, 2:1, 3:0, 4:1, \\\n",
    "5:0, 6:1, 7:1, 8:0, 9:1, 10:0, 11:1, 12:0, 13:1, 14:0, 15:1})\n"
   ]
  },
  {
   "cell_type": "code",
   "execution_count": 47,
   "metadata": {},
   "outputs": [
    {
     "data": {
      "text/plain": [
       "(797906, 84)"
      ]
     },
     "execution_count": 47,
     "metadata": {},
     "output_type": "execute_result"
    }
   ],
   "source": [
    "# Drop the original 'PRAEGENDE_JUGENDJAHRE' column\n",
    "\n",
    "azdias_enc = azdias_enc.drop('PRAEGENDE_JUGENDJAHRE', axis=1)\n",
    "azdias_enc.shape"
   ]
  },
  {
   "cell_type": "code",
   "execution_count": 48,
   "metadata": {},
   "outputs": [
    {
     "data": {
      "text/plain": [
       "1     51\n",
       "2     24\n",
       "3     12\n",
       "4     43\n",
       "5     54\n",
       "6     22\n",
       "7     14\n",
       "8     13\n",
       "9     15\n",
       "10    51\n",
       "Name: CAMEO_INTL_2015, dtype: object"
      ]
     },
     "execution_count": 48,
     "metadata": {},
     "output_type": "execute_result"
    }
   ],
   "source": [
    "azdias_enc['CAMEO_INTL_2015'][:10]"
   ]
  },
  {
   "cell_type": "code",
   "execution_count": 49,
   "metadata": {},
   "outputs": [],
   "source": [
    "# Investigate \"CAMEO_INTL_2015\" and engineer two new variables.\n",
    "\n",
    "wealth = {'11':1,'12':1,'13':1,'14':1,'15':1, '21':2,'22':2,'23':2,'24':2,'25':2,\\\n",
    "          '31':3,'32':3,'33':3,'34':3,'35':3, '41':4,'42':4,'43':4,'44':4,'45':4,\\\n",
    "          '51':5,'52':5,'53':5,'54':5,'55':5}\n",
    "stage = {'11':1,'21':1,'31':1,'41':1,'51':1, '12':2,'22':2,'32':2,'42':2,'52':2,\\\n",
    "         '13':3,'23':3,'33':3,'43':3,'53':3, '14':4,'24':4,'34':4,'44':4,'54':4,\\\n",
    "         '15':5,'25':5,'35':5,'45':5,'55':5}\n",
    "\n",
    "azdias_enc['CAMEO_INTL_2015_Wealth'] = azdias_enc['CAMEO_INTL_2015'].map(wealth)\n",
    "azdias_enc['CAMEO_INTL_2015_Stage'] = azdias_enc['CAMEO_INTL_2015'].map(stage)\n"
   ]
  },
  {
   "cell_type": "code",
   "execution_count": 50,
   "metadata": {},
   "outputs": [
    {
     "data": {
      "text/plain": [
       "1     5.0\n",
       "2     2.0\n",
       "3     1.0\n",
       "4     4.0\n",
       "5     5.0\n",
       "6     2.0\n",
       "7     1.0\n",
       "8     1.0\n",
       "9     1.0\n",
       "10    5.0\n",
       "Name: CAMEO_INTL_2015_Wealth, dtype: float64"
      ]
     },
     "execution_count": 50,
     "metadata": {},
     "output_type": "execute_result"
    }
   ],
   "source": [
    "azdias_enc['CAMEO_INTL_2015_Wealth'][:10]"
   ]
  },
  {
   "cell_type": "code",
   "execution_count": 51,
   "metadata": {},
   "outputs": [],
   "source": [
    "azdias_enc = azdias_enc.drop('CAMEO_INTL_2015', axis=1)\n"
   ]
  },
  {
   "cell_type": "code",
   "execution_count": 52,
   "metadata": {},
   "outputs": [],
   "source": [
    "# Delete the remaining mixed type features.\n",
    "\n",
    "azdias_enc = azdias_enc.drop(['LP_LEBENSPHASE_FEIN',\\\n",
    "          'LP_LEBENSPHASE_GROB', 'WOHNLAGE','PLZ8_BAUMAX'], axis=1)"
   ]
  },
  {
   "cell_type": "code",
   "execution_count": 53,
   "metadata": {},
   "outputs": [
    {
     "data": {
      "text/plain": [
       "(797906, 81)"
      ]
     },
     "execution_count": 53,
     "metadata": {},
     "output_type": "execute_result"
    }
   ],
   "source": [
    "azdias_enc.shape"
   ]
  },
  {
   "cell_type": "markdown",
   "metadata": {},
   "source": [
    "###### Discussion 1.2.2: Engineer Mixed-Type Features\n",
    "\n",
    "For the mixed type feature 'PRAEGENDE_JUGENDJAHRE', two new columns were created and mapped the decade information (40s=1, 50s=2, etc.) and movement ('mainstream'=0, 'avantgarde'=1) to these new columns 'PRAEGENDE_JUGENDJAHRE_Decade'and 'PRAEGENDE_JUGENDJAHRE_move' respectively. \"mapping\" ws used for this. The original 'PRAEGENDE_JUGENDJAHRE' column is dropped.\n",
    "\n",
    "For 'CAMEO_INTL_2015', two new columns 'CAMEO_INTL_2015_Wealth' and 'CAMEO_INTL_2015_Stage' were created and the 'tens'-place and 'ones'-place digits of the origianl values were mapped into the new columns. \"mapping\" was used, and the original 'CAMEO_INTL_2015' column is dropped.\n",
    "\n",
    "Based on the review of other mixed-type features, I decided to drop them. feat_info is updated with the deleted columns. There are 81 columns at this point. \n"
   ]
  },
  {
   "cell_type": "markdown",
   "metadata": {},
   "source": [
    "#### Step 1.2.3: Complete Feature Selection\n",
    "\n",
    "In order to finish this step up, you need to make sure that your data frame now only has the columns that you want to keep. To summarize, the dataframe should consist of the following:\n",
    "- All numeric, interval, and ordinal type columns from the original dataset.\n",
    "- Binary categorical features (all numerically-encoded).\n",
    "- Engineered features from other multi-level categorical features and mixed features.\n",
    "\n",
    "Make sure that for any new columns that you have engineered, that you've excluded the original columns from the final dataset. Otherwise, their values will interfere with the analysis later on the project. For example, you should not keep \"PRAEGENDE_JUGENDJAHRE\", since its values won't be useful for the algorithm: only the values derived from it in the engineered features you created should be retained. As a reminder, your data should only be from **the subset with few or no missing values**."
   ]
  },
  {
   "cell_type": "code",
   "execution_count": 91,
   "metadata": {},
   "outputs": [],
   "source": [
    "# If there are other re-engineering tasks you need to perform, make sure you\n",
    "# take care of them here. (Dealing with missing data will come in step 2.1.)\n",
    "\n",
    "\n",
    "from sklearn.preprocessing import Imputer\n",
    "\n",
    "imputer = Imputer(missing_values='NaN', strategy='mean', axis=0)\n",
    "\n",
    "azdias_ff = imputer.fit(azdias_enc)\n",
    "azdias_ff = imputer.transform(azdias_enc)\n"
   ]
  },
  {
   "cell_type": "code",
   "execution_count": 55,
   "metadata": {},
   "outputs": [],
   "source": [
    "index = azdias_enc.index\n",
    "features = azdias_enc.columns\n",
    "\n",
    "azdias_ff = pd.DataFrame(azdias_ff, index=index, columns=features)"
   ]
  },
  {
   "cell_type": "code",
   "execution_count": 56,
   "metadata": {},
   "outputs": [
    {
     "data": {
      "text/plain": [
       "(797906, 81)"
      ]
     },
     "execution_count": 56,
     "metadata": {},
     "output_type": "execute_result"
    }
   ],
   "source": [
    "# Do whatever you need to in order to ensure that the dataframe only contains\n",
    "# the columns that should be passed to the algorithm functions.\n",
    "\n",
    "azdias_ff.shape"
   ]
  },
  {
   "cell_type": "markdown",
   "metadata": {},
   "source": [
    "### Step 1.3: Create a Cleaning Function\n",
    "\n",
    "Even though you've finished cleaning up the general population demographics data, it's important to look ahead to the future and realize that you'll need to perform the same cleaning steps on the customer demographics data. In this substep, complete the function below to execute the main feature selection, encoding, and re-engineering steps you performed above. Then, when it comes to looking at the customer data in Step 3, you can just run this function on that DataFrame to get the trimmed dataset in a single step."
   ]
  },
  {
   "cell_type": "code",
   "execution_count": 87,
   "metadata": {},
   "outputs": [
    {
     "name": "stdout",
     "output_type": "stream",
     "text": [
      "If this is all you see, you passed the tests\n"
     ]
    }
   ],
   "source": [
    "def clean_data(df):\n",
    "    \"\"\"\n",
    "    Perform feature trimming, re-encoding, and engineering for demographics\n",
    "    data\n",
    "    \n",
    "    INPUT: Demographics DataFrame\n",
    "    OUTPUT: Trimmed and cleaned demographics DataFrame\n",
    "    \"\"\"\n",
    "    \n",
    "    # Convert missing value codes into NaNs.\n",
    "    \n",
    "    for attribute, miss_index in zip(feat_info['attribute'], \\\n",
    "                                     feat_info['missing_or_unknown']):    \n",
    "        missing_values = miss_index.strip('[]').split(',')\n",
    "        missing_values = [int(value) if (value!='X' and value!='XX' \\\n",
    "                                         and value!='') \\\n",
    "                          else value for value in missing_values]\n",
    "        if missing_values != ['']:\n",
    "            df[attribute] = df[attribute].replace(missing_values, np.nan)\n",
    "        \n",
    "    \n",
    "    # Delete the same columns that were deleted from the original\n",
    "    # data set (columns with more than 300,000 missing values.)\n",
    "    \n",
    "    col_to_del=['TITEL_KZ','AGER_TYP','KK_KUNDENTYP','KBA05_BAUMAX',\\\n",
    "                'GEBURTSJAHR','ALTER_HH']\n",
    "\n",
    "    df = df.drop(col_outliers, axis=1)\n",
    "   \n",
    "    # Delete rows that are missing more than 25 feature values.\n",
    "\n",
    "    row_to_del = df[df.isnull().sum(axis=1)>=25]\n",
    "    df = df.drop(row_to_del.index, axis=0)\n",
    "\n",
    "    # RE-ENCODE CATEGORICAL FEATURES:\n",
    "    # For'OST_WEST_KZ', re-encode 'W' & 'O' to 1 and 0.\n",
    "   \n",
    "    df['OST_WEST_KZ'] = df['OST_WEST_KZ'].map({'W':1, 'O':0})\n",
    "    \n",
    "    # Remove categorical columns that have more than 5 unique values.\n",
    "    \n",
    "    cat_columns = list(feat_info[feat_info['type'] == 'categorical'].attribute)\n",
    "    \n",
    "    for col in cat_columns:\n",
    "        if col in df.columns and df[col].nunique() > 5:\n",
    "            df = df.drop(col, axis=1)\n",
    "        else:\n",
    "            pass\n",
    "    \n",
    "    # Hot-encode the columns that have values betwee 3 and 5.\n",
    "    cols_for_dummies = ['LP_FAMILIE_GROB', 'LP_STATUS_GROB', \\\n",
    "                       'NATIONALITAET_KZ', 'SHOPPER_TYP']    \n",
    "    df = pd.get_dummies(df, columns = cols_for_dummies) \n",
    "    \n",
    "    # ENGINEER MIXED_TYPE FEATURES:\n",
    "    # Engineer two new variables for'PRAEGENDE_JUGENDJAHRE'\n",
    "\n",
    "    df['PRAEGENDE_JUGENDJAHRE_Decade'] \\\n",
    "    = df['PRAEGENDE_JUGENDJAHRE'].map({1:1, 2:1, 3:2, \\\n",
    "    4:2, 5:3, 6:3, 7:3, 8:4, 9:4, 10:5, 11:5, 12:5, 13:5, 14:6, 15:6})\n",
    "\n",
    "    df['PRAEGENDE_JUGENDJAHRE_Move'] \\\n",
    "    = df['PRAEGENDE_JUGENDJAHRE'].map({1:0, 2:1, 3:0, 4:1, \\\n",
    "    5:0, 6:1, 7:1, 8:0, 9:1, 10:0, 11:1, 12:0, 13:1, 14:0, 15:1})\n",
    "    \n",
    "    df = df.drop('PRAEGENDE_JUGENDJAHRE', axis=1)\n",
    "    \n",
    "    # Engineer two new variables for \"CAMEO_INTL_2015\"\n",
    "\n",
    "    wealth = {'11':1,'12':1,'13':1,'14':1,'15':1, '21':2,'22':2,'23':2,'24':2,'25':2,\\\n",
    "              '31':3,'32':3,'33':3,'34':3,'35':3, '41':4,'42':4,'43':4,'44':4,'45':4,\\\n",
    "              '51':5,'52':5,'53':5,'54':5,'55':5}\n",
    "    stage = {'11':1,'21':1,'31':1,'41':1,'51':1, '12':2,'22':2,'32':2,'42':2,'52':2,\\\n",
    "             '13':3,'23':3,'33':3,'43':3,'53':3, '14':4,'24':4,'34':4,'44':4,'54':4,\\\n",
    "             '15':5,'25':5,'35':5,'45':5,'55':5}\n",
    "\n",
    "    df['CAMEO_INTL_2015_Wealth'] = df['CAMEO_INTL_2015'].map(wealth)\n",
    "    df['CAMEO_INTL_2015_Stage'] = df['CAMEO_INTL_2015'].map(stage)\n",
    "    \n",
    "    df = df.drop('CAMEO_INTL_2015', axis=1)\n",
    "    \n",
    "    # Delete the remaining mixed type features.\n",
    "\n",
    "    df = df.drop(['LP_LEBENSPHASE_FEIN','LP_LEBENSPHASE_GROB', \\\n",
    "                  'WOHNLAGE','PLZ8_BAUMAX'], axis=1)\n",
    "       \n",
    "    # Return the cleaned dataframe.\n",
    "    \n",
    "    return df\n",
    "\n",
    "assert clean_data(azdias).shape[0] == azdias_ff.shape[0], \"clean_data function is not working properly, rows mismatch\"\n",
    "print(\"If this is all you see, you passed the tests\")"
   ]
  },
  {
   "cell_type": "markdown",
   "metadata": {},
   "source": [
    "## Step 2: Feature Transformation\n",
    "\n",
    "### Step 2.1: Apply Feature Scaling\n",
    "\n",
    "Before we apply dimensionality reduction techniques to the data, we need to perform feature scaling so that the principal component vectors are not influenced by the natural differences in scale for features. Starting from this part of the project, you'll want to keep an eye on the [API reference page for sklearn](http://scikit-learn.org/stable/modules/classes.html) to help you navigate to all of the classes and functions that you'll need. In this substep, you'll need to check the following:\n",
    "\n",
    "- sklearn requires that data not have missing values in order for its estimators to work properly. So, before applying the scaler to your data, make sure that you've cleaned the DataFrame of the remaining missing values. This can be as simple as just removing all data points with missing data, or applying an [Imputer](https://scikit-learn.org/0.16/modules/generated/sklearn.preprocessing.Imputer.html) to replace all missing values. You might also try a more complicated procedure where you temporarily remove missing values in order to compute the scaling parameters before re-introducing those missing values and applying imputation. Think about how much missing data you have and what possible effects each approach might have on your analysis, and justify your decision in the discussion section below.\n",
    "- For the actual scaling function, a [StandardScaler](http://scikit-learn.org/stable/modules/generated/sklearn.preprocessing.StandardScaler.html) instance is suggested, scaling each feature to mean 0 and standard deviation 1.\n",
    "- For these classes, you can make use of the `.fit_transform()` method to both fit a procedure to the data as well as apply the transformation to the data at the same time. Don't forget to keep the fit sklearn objects handy, since you'll be applying them to the customer demographics data towards the end of the project."
   ]
  },
  {
   "cell_type": "code",
   "execution_count": 58,
   "metadata": {},
   "outputs": [
    {
     "data": {
      "text/plain": [
       "0"
      ]
     },
     "execution_count": 58,
     "metadata": {},
     "output_type": "execute_result"
    }
   ],
   "source": [
    "# If you've not yet cleaned the dataset of all NaN values, then investigate and\n",
    "# do that now.\n",
    "azdias_ff.isnull().sum().sum()"
   ]
  },
  {
   "cell_type": "code",
   "execution_count": 59,
   "metadata": {},
   "outputs": [],
   "source": [
    "# Apply feature scaling to the general population demographics data.\n",
    "\n",
    "from sklearn.preprocessing import StandardScaler\n",
    "scaler = StandardScaler()"
   ]
  },
  {
   "cell_type": "code",
   "execution_count": 60,
   "metadata": {},
   "outputs": [],
   "source": [
    "azdias_scaled = scaler.fit_transform(azdias_ff)"
   ]
  },
  {
   "cell_type": "markdown",
   "metadata": {},
   "source": [
    "### Discussion 2.1: Apply Feature Scaling\n",
    "\n",
    "I applied Imputer to take care of any remaining NaN values. Used 'mean' to imput the null data, because 'median' doesn't work for categorical data. Didn't think the 'most'frequent' method is proper as it may make the distribution skewed.  \n",
    "\n",
    "For actual feature scaling I used StandardScaler, by which the final dataset (azdias_ff) is fit and transformed to azdias_scaled. All features have their own ranges of values with varying scales, and some of them have large numbers. Those features with large values, if not standardized, will impact the overall fitting of the model taking large weights, even though large value doesn't mean more impact to actual fitting. It is absolutely necessasry to standardize all values."
   ]
  },
  {
   "cell_type": "markdown",
   "metadata": {},
   "source": [
    "### Step 2.2: Perform Dimensionality Reduction\n",
    "\n",
    "On your scaled data, you are now ready to apply dimensionality reduction techniques.\n",
    "\n",
    "- Use sklearn's [PCA](http://scikit-learn.org/stable/modules/generated/sklearn.decomposition.PCA.html) class to apply principal component analysis on the data, thus finding the vectors of maximal variance in the data. To start, you should not set any parameters (so all components are computed) or set a number of components that is at least half the number of features (so there's enough features to see the general trend in variability).\n",
    "- Check out the ratio of variance explained by each principal component as well as the cumulative variance explained. Try plotting the cumulative or sequential values using matplotlib's [`plot()`](https://matplotlib.org/api/_as_gen/matplotlib.pyplot.plot.html) function. Based on what you find, select a value for the number of transformed features you'll retain for the clustering part of the project.\n",
    "- Once you've made a choice for the number of components to keep, make sure you re-fit a PCA instance to perform the decided-on transformation."
   ]
  },
  {
   "cell_type": "code",
   "execution_count": 62,
   "metadata": {},
   "outputs": [],
   "source": [
    "# Apply PCA to the scaled data.\n",
    "\n",
    "from sklearn.decomposition import PCA\n",
    "\n",
    "n_components = 50\n",
    "pca = PCA(n_components=n_components)\n",
    "\n",
    "azdias_pca = pca.fit_transform(azdias_scaled)"
   ]
  },
  {
   "cell_type": "code",
   "execution_count": 68,
   "metadata": {},
   "outputs": [
    {
     "name": "stdout",
     "output_type": "stream",
     "text": [
      "[ 0.147  0.258  0.335  0.384  0.417  0.445  0.47   0.494  0.516  0.537]\n",
      "[ 0.899  0.904  0.909  0.914  0.919  0.923  0.928  0.932  0.936  0.94 ]\n"
     ]
    }
   ],
   "source": [
    "# Investigate the variance accounted for by each principal component.\n",
    "\n",
    "var_ratio = pca.explained_variance_ratio_\n",
    "cum_ratio = np.round(np.cumsum(var_ratio), 3)\n",
    "\n",
    "print(cum_ratio[:10])\n",
    "print(cum_ratio[-10:])"
   ]
  },
  {
   "cell_type": "code",
   "execution_count": 59,
   "metadata": {},
   "outputs": [
    {
     "data": {
      "image/png": "[encoded data removed]",
      "text/plain": [
       "<matplotlib.figure.Figure at 0x7fe3523b8dd8>"
      ]
     },
     "metadata": {
      "needs_background": "light"
     },
     "output_type": "display_data"
    }
   ],
   "source": [
    "x = np.arange(n_components)\n",
    "\n",
    "plt.figure(figsize=(12,6))\n",
    "ax = plt.subplot()\n",
    "ax.bar(x, var_ratio)\n",
    "ax.plot(x, cum_ratio)\n",
    "\n",
    "ax.set_xlabel(\"Number of Principal Components\", fontsize=14)\n",
    "ax.set_ylabel(\"Variance Explained Ratio\", fontsize=14)\n",
    "ax.tick_params(axis='both', which='major', labelsize=12)"
   ]
  },
  {
   "cell_type": "code",
   "execution_count": 60,
   "metadata": {},
   "outputs": [],
   "source": [
    "# Re-apply PCA to the data while selecting for number of components to retain.\n",
    "# Based on the pca results, I decided to keep 25 pc's.\n",
    "\n",
    "n_pc = 50\n",
    "pca = PCA(n_components=n_pc)\n",
    "\n",
    "azdias_pca = pca.fit_transform(azdias_scaled)"
   ]
  },
  {
   "cell_type": "code",
   "execution_count": 61,
   "metadata": {},
   "outputs": [
    {
     "name": "stdout",
     "output_type": "stream",
     "text": [
      "[ 0.147  0.258  0.335  0.384  0.417  0.445  0.47   0.494  0.516  0.537\n",
      "  0.556  0.575  0.592  0.609  0.626  0.641  0.657  0.672  0.686  0.7    0.713\n",
      "  0.726  0.739  0.751  0.764  0.776  0.787  0.798  0.809  0.819  0.828\n",
      "  0.837  0.846  0.854  0.862  0.87   0.876  0.882  0.888  0.893  0.899\n",
      "  0.904  0.909  0.914  0.919  0.923  0.928  0.932  0.936  0.94 ]\n"
     ]
    }
   ],
   "source": [
    "var_ratio = pca.explained_variance_ratio_\n",
    "cum_ratio = np.round(np.cumsum(var_ratio),3)\n",
    "print(cum_ratio)"
   ]
  },
  {
   "cell_type": "markdown",
   "metadata": {},
   "source": [
    "### Discussion 2.2: Perform Dimensionality Reduction\n",
    "\n",
    "I chose 50 principal components that explained the variances at around 94%. I re-fitted the data with 50 pc's.\n",
    "\n",
    "The original data had 85 features. During the pre-processing, the feature numbers were changed to 81 (some deletions but also increased by hot-encoding and splitting). The new features are now the 50 principal components which explain 93.4% of the variances in the dataset. "
   ]
  },
  {
   "cell_type": "markdown",
   "metadata": {},
   "source": [
    "### Step 2.3: Interpret Principal Components\n",
    "\n",
    "Now that we have our transformed principal components, it's a nice idea to check out the weight of each variable on the first few components to see if they can be interpreted in some fashion.\n",
    "\n",
    "As a reminder, each principal component is a unit vector that points in the direction of highest variance (after accounting for the variance captured by earlier principal components). The further a weight is from zero, the more the principal component is in the direction of the corresponding feature. If two features have large weights of the same sign (both positive or both negative), then increases in one tend expect to be associated with increases in the other. To contrast, features with different signs can be expected to show a negative correlation: increases in one variable should result in a decrease in the other.\n",
    "\n",
    "- To investigate the features, you should map each weight to their corresponding feature name, then sort the features according to weight. The most interesting features for each principal component, then, will be those at the beginning and end of the sorted list. Use the data dictionary document to help you understand these most prominent features, their relationships, and what a positive or negative value on the principal component might indicate.\n",
    "- You should investigate and interpret feature associations from the first three principal components in this substep. To help facilitate this, you should write a function that you can call at any time to print the sorted list of feature weights, for the *i*-th principal component. This might come in handy in the next step of the project, when you interpret the tendencies of the discovered clusters."
   ]
  },
  {
   "cell_type": "code",
   "execution_count": 69,
   "metadata": {},
   "outputs": [
    {
     "data": {
      "text/html": [
       "<div>\n",
       "<style scoped>\n",
       "    .dataframe tbody tr th:only-of-type {\n",
       "        vertical-align: middle;\n",
       "    }\n",
       "\n",
       "    .dataframe tbody tr th {\n",
       "        vertical-align: top;\n",
       "    }\n",
       "\n",
       "    .dataframe thead th {\n",
       "        text-align: right;\n",
       "    }\n",
       "</style>\n",
       "<table border=\"1\" class=\"dataframe\">\n",
       "  <thead>\n",
       "    <tr style=\"text-align: right;\">\n",
       "      <th></th>\n",
       "      <th>ALTERSKATEGORIE_GROB</th>\n",
       "      <th>ANREDE_KZ</th>\n",
       "      <th>FINANZ_MINIMALIST</th>\n",
       "      <th>FINANZ_SPARER</th>\n",
       "      <th>FINANZ_VORSORGER</th>\n",
       "      <th>FINANZ_ANLEGER</th>\n",
       "      <th>FINANZ_UNAUFFAELLIGER</th>\n",
       "      <th>FINANZ_HAUSBAUER</th>\n",
       "      <th>GREEN_AVANTGARDE</th>\n",
       "      <th>HEALTH_TYP</th>\n",
       "      <th>...</th>\n",
       "      <th>NATIONALITAET_KZ_2.0</th>\n",
       "      <th>NATIONALITAET_KZ_3.0</th>\n",
       "      <th>SHOPPER_TYP_0.0</th>\n",
       "      <th>SHOPPER_TYP_1.0</th>\n",
       "      <th>SHOPPER_TYP_2.0</th>\n",
       "      <th>SHOPPER_TYP_3.0</th>\n",
       "      <th>PRAEGENDE_JUGENDJAHRE_Decade</th>\n",
       "      <th>PRAEGENDE_JUGENDJAHRE_Move</th>\n",
       "      <th>CAMEO_INTL_2015_Wealth</th>\n",
       "      <th>CAMEO_INTL_2015_Stage</th>\n",
       "    </tr>\n",
       "  </thead>\n",
       "  <tbody>\n",
       "    <tr>\n",
       "      <th>PC 1</th>\n",
       "      <td>-0.103</td>\n",
       "      <td>0.014</td>\n",
       "      <td>-0.213</td>\n",
       "      <td>0.132</td>\n",
       "      <td>-0.099</td>\n",
       "      <td>0.062</td>\n",
       "      <td>0.062</td>\n",
       "      <td>0.163</td>\n",
       "      <td>-0.113</td>\n",
       "      <td>0.030</td>\n",
       "      <td>...</td>\n",
       "      <td>0.057</td>\n",
       "      <td>0.032</td>\n",
       "      <td>-0.021</td>\n",
       "      <td>-0.000</td>\n",
       "      <td>0.040</td>\n",
       "      <td>-0.041</td>\n",
       "      <td>0.086</td>\n",
       "      <td>-0.110</td>\n",
       "      <td>0.199</td>\n",
       "      <td>-0.118</td>\n",
       "    </tr>\n",
       "    <tr>\n",
       "      <th>PC 2</th>\n",
       "      <td>0.258</td>\n",
       "      <td>0.093</td>\n",
       "      <td>0.071</td>\n",
       "      <td>-0.235</td>\n",
       "      <td>0.230</td>\n",
       "      <td>-0.200</td>\n",
       "      <td>-0.223</td>\n",
       "      <td>0.109</td>\n",
       "      <td>-0.010</td>\n",
       "      <td>-0.058</td>\n",
       "      <td>...</td>\n",
       "      <td>-0.054</td>\n",
       "      <td>-0.052</td>\n",
       "      <td>-0.073</td>\n",
       "      <td>-0.039</td>\n",
       "      <td>0.017</td>\n",
       "      <td>0.095</td>\n",
       "      <td>-0.248</td>\n",
       "      <td>-0.008</td>\n",
       "      <td>0.063</td>\n",
       "      <td>0.008</td>\n",
       "    </tr>\n",
       "    <tr>\n",
       "      <th>PC 3</th>\n",
       "      <td>0.077</td>\n",
       "      <td>-0.357</td>\n",
       "      <td>0.147</td>\n",
       "      <td>-0.104</td>\n",
       "      <td>0.100</td>\n",
       "      <td>-0.187</td>\n",
       "      <td>-0.099</td>\n",
       "      <td>-0.032</td>\n",
       "      <td>0.045</td>\n",
       "      <td>-0.026</td>\n",
       "      <td>...</td>\n",
       "      <td>0.017</td>\n",
       "      <td>-0.045</td>\n",
       "      <td>0.127</td>\n",
       "      <td>0.049</td>\n",
       "      <td>-0.102</td>\n",
       "      <td>-0.039</td>\n",
       "      <td>-0.108</td>\n",
       "      <td>0.043</td>\n",
       "      <td>0.034</td>\n",
       "      <td>-0.012</td>\n",
       "    </tr>\n",
       "    <tr>\n",
       "      <th>PC 4</th>\n",
       "      <td>-0.039</td>\n",
       "      <td>0.038</td>\n",
       "      <td>0.041</td>\n",
       "      <td>0.008</td>\n",
       "      <td>-0.024</td>\n",
       "      <td>-0.094</td>\n",
       "      <td>0.069</td>\n",
       "      <td>-0.078</td>\n",
       "      <td>0.377</td>\n",
       "      <td>-0.001</td>\n",
       "      <td>...</td>\n",
       "      <td>0.013</td>\n",
       "      <td>0.001</td>\n",
       "      <td>-0.028</td>\n",
       "      <td>-0.024</td>\n",
       "      <td>-0.010</td>\n",
       "      <td>0.062</td>\n",
       "      <td>0.043</td>\n",
       "      <td>0.377</td>\n",
       "      <td>-0.082</td>\n",
       "      <td>0.038</td>\n",
       "    </tr>\n",
       "    <tr>\n",
       "      <th>PC 5</th>\n",
       "      <td>0.035</td>\n",
       "      <td>-0.010</td>\n",
       "      <td>0.062</td>\n",
       "      <td>-0.008</td>\n",
       "      <td>-0.017</td>\n",
       "      <td>0.061</td>\n",
       "      <td>-0.078</td>\n",
       "      <td>-0.063</td>\n",
       "      <td>-0.081</td>\n",
       "      <td>0.001</td>\n",
       "      <td>...</td>\n",
       "      <td>0.001</td>\n",
       "      <td>-0.010</td>\n",
       "      <td>0.033</td>\n",
       "      <td>-0.093</td>\n",
       "      <td>0.047</td>\n",
       "      <td>0.043</td>\n",
       "      <td>0.022</td>\n",
       "      <td>-0.086</td>\n",
       "      <td>0.063</td>\n",
       "      <td>-0.029</td>\n",
       "    </tr>\n",
       "  </tbody>\n",
       "</table>\n",
       "<p>5 rows × 81 columns</p>\n",
       "</div>"
      ],
      "text/plain": [
       "      ALTERSKATEGORIE_GROB  ANREDE_KZ  FINANZ_MINIMALIST  FINANZ_SPARER  \\\n",
       "PC 1                -0.103      0.014             -0.213          0.132   \n",
       "PC 2                 0.258      0.093              0.071         -0.235   \n",
       "PC 3                 0.077     -0.357              0.147         -0.104   \n",
       "PC 4                -0.039      0.038              0.041          0.008   \n",
       "PC 5                 0.035     -0.010              0.062         -0.008   \n",
       "\n",
       "      FINANZ_VORSORGER  FINANZ_ANLEGER  FINANZ_UNAUFFAELLIGER  \\\n",
       "PC 1            -0.099           0.062                  0.062   \n",
       "PC 2             0.230          -0.200                 -0.223   \n",
       "PC 3             0.100          -0.187                 -0.099   \n",
       "PC 4            -0.024          -0.094                  0.069   \n",
       "PC 5            -0.017           0.061                 -0.078   \n",
       "\n",
       "      FINANZ_HAUSBAUER  GREEN_AVANTGARDE  HEALTH_TYP          ...            \\\n",
       "PC 1             0.163            -0.113       0.030          ...             \n",
       "PC 2             0.109            -0.010      -0.058          ...             \n",
       "PC 3            -0.032             0.045      -0.026          ...             \n",
       "PC 4            -0.078             0.377      -0.001          ...             \n",
       "PC 5            -0.063            -0.081       0.001          ...             \n",
       "\n",
       "      NATIONALITAET_KZ_2.0  NATIONALITAET_KZ_3.0  SHOPPER_TYP_0.0  \\\n",
       "PC 1                 0.057                 0.032           -0.021   \n",
       "PC 2                -0.054                -0.052           -0.073   \n",
       "PC 3                 0.017                -0.045            0.127   \n",
       "PC 4                 0.013                 0.001           -0.028   \n",
       "PC 5                 0.001                -0.010            0.033   \n",
       "\n",
       "      SHOPPER_TYP_1.0  SHOPPER_TYP_2.0  SHOPPER_TYP_3.0  \\\n",
       "PC 1           -0.000            0.040           -0.041   \n",
       "PC 2           -0.039            0.017            0.095   \n",
       "PC 3            0.049           -0.102           -0.039   \n",
       "PC 4           -0.024           -0.010            0.062   \n",
       "PC 5           -0.093            0.047            0.043   \n",
       "\n",
       "      PRAEGENDE_JUGENDJAHRE_Decade  PRAEGENDE_JUGENDJAHRE_Move  \\\n",
       "PC 1                         0.086                      -0.110   \n",
       "PC 2                        -0.248                      -0.008   \n",
       "PC 3                        -0.108                       0.043   \n",
       "PC 4                         0.043                       0.377   \n",
       "PC 5                         0.022                      -0.086   \n",
       "\n",
       "      CAMEO_INTL_2015_Wealth  CAMEO_INTL_2015_Stage  \n",
       "PC 1                   0.199                 -0.118  \n",
       "PC 2                   0.063                  0.008  \n",
       "PC 3                   0.034                 -0.012  \n",
       "PC 4                  -0.082                  0.038  \n",
       "PC 5                   0.063                 -0.029  \n",
       "\n",
       "[5 rows x 81 columns]"
      ]
     },
     "execution_count": 69,
     "metadata": {},
     "output_type": "execute_result"
    }
   ],
   "source": [
    "# Map weights for the first principal component to corresponding feature names\n",
    "# and then print the linked values, sorted by weight.\n",
    "# HINT: Try defining a function here or in a new cell that you can reuse in the\n",
    "# other cells.\n",
    "\n",
    "def pca_table(final_dataframe, pca):\n",
    "    features = list(final_dataframe.columns)\n",
    "    index = ['PC {}'.format(i) for i in range(1,len(pca.components_)+1)]\n",
    "    components = pd.DataFrame(np.round(pca.components_, 3), index=index,columns=features)    \n",
    "    return components\n",
    "\n",
    "pca_table = pca_table(azdias_ff, pca).head()\n",
    "pca_table"
   ]
  },
  {
   "cell_type": "code",
   "execution_count": 70,
   "metadata": {},
   "outputs": [
    {
     "name": "stdout",
     "output_type": "stream",
     "text": [
      "LP_STATUS_GROB_1.0        0.217\n",
      "PLZ8_ANTG3                0.213\n",
      "PLZ8_ANTG4                0.206\n",
      "HH_EINKOMMEN_SCORE        0.202\n",
      "CAMEO_INTL_2015_Wealth    0.199\n",
      "Name: PC 1, dtype: float64\n",
      "KBA05_GBZ           -0.209\n",
      "PLZ8_ANTG1          -0.212\n",
      "FINANZ_MINIMALIST   -0.213\n",
      "KBA05_ANTG1         -0.217\n",
      "MOBI_REGIO          -0.233\n",
      "Name: PC 1, dtype: float64\n"
     ]
    }
   ],
   "source": [
    "def first_last_5(pca_table, pca_rank):   \n",
    "    pc_index = pca_rank-1\n",
    "    print(pca_table.iloc[pc_index].sort_values(ascending=False)[:5])\n",
    "    print(pca_table.iloc[pc_index].sort_values(ascending=False)[-5:])\n",
    "\n",
    "first_last_5(pca_table, 1)"
   ]
  },
  {
   "cell_type": "code",
   "execution_count": 71,
   "metadata": {},
   "outputs": [
    {
     "name": "stdout",
     "output_type": "stream",
     "text": [
      "ALTERSKATEGORIE_GROB    0.258\n",
      "SEMIO_ERL               0.231\n",
      "FINANZ_VORSORGER        0.230\n",
      "SEMIO_LUST              0.182\n",
      "RETOURTYP_BK_S          0.158\n",
      "Name: PC 2, dtype: float64\n",
      "SEMIO_PFLICHT                  -0.227\n",
      "SEMIO_TRADV                    -0.228\n",
      "FINANZ_SPARER                  -0.235\n",
      "PRAEGENDE_JUGENDJAHRE_Decade   -0.248\n",
      "SEMIO_REL                      -0.256\n",
      "Name: PC 2, dtype: float64\n"
     ]
    }
   ],
   "source": [
    "# Map weights for the second principal component to corresponding feature names\n",
    "# and then print the linked values, sorted by weight.\n",
    "\n",
    "first_last_5(pca_table, 2)"
   ]
  },
  {
   "cell_type": "code",
   "execution_count": 72,
   "metadata": {},
   "outputs": [
    {
     "name": "stdout",
     "output_type": "stream",
     "text": [
      "SEMIO_VERT           0.333\n",
      "SEMIO_SOZ            0.257\n",
      "SEMIO_FAM            0.243\n",
      "SEMIO_KULT           0.227\n",
      "FINANZ_MINIMALIST    0.147\n",
      "Name: PC 3, dtype: float64\n",
      "SEMIO_RAT    -0.213\n",
      "SEMIO_KRIT   -0.267\n",
      "SEMIO_DOM    -0.306\n",
      "SEMIO_KAEM   -0.327\n",
      "ANREDE_KZ    -0.357\n",
      "Name: PC 3, dtype: float64\n"
     ]
    }
   ],
   "source": [
    "# Map weights for the third principal component to corresponding feature names\n",
    "# and then print the linked values, sorted by weight.\n",
    "\n",
    "first_last_5(pca_table, 3)"
   ]
  },
  {
   "cell_type": "markdown",
   "metadata": {},
   "source": [
    "### Discussion 2.3: Interpret Principal Components\n",
    "\n",
    "The first 3 Principal Components(PC's) explains about 33.5% of the total variances. The top 5 positive and top 5 negative weights of each of the 3 PC's were investigated. Within a PC, high weights of features mean that the PC is more in the direction of these features (explaining more about thesse features). \n",
    "\n",
    "For PC1, 'social status' and '6-10 houses in PLZ8 region' have the highest positive weights, and these features are positively correlated with each other. On the other hand, 'low financial interest', '1-2 houses in microcell', and 'movement patterns' have the highest negative weights while negatively correlated with the other two features aforemendtioned. \n",
    "\n",
    "Regarding some high-weight-valued features in PC2, 'estimated age based on given name analysis', 'even-oriented' and 'financially be prepared' are positively correlated, while negatively correclted with a group of following features: 'money saver', 'age by decades', and 'religious affinity'.\n",
    "\n",
    "Lastly, in PC3, 'dreamful', 'socially-minded', and 'family-minded' are positively correlated between each other while negatively correlated with the following features: 'critical-minded', 'dominant-minded', 'combative attitude', and 'gender'."
   ]
  },
  {
   "cell_type": "markdown",
   "metadata": {},
   "source": [
    "## Step 3: Clustering\n",
    "\n",
    "### Step 3.1: Apply Clustering to General Population\n",
    "\n",
    "You've assessed and cleaned the demographics data, then scaled and transformed them. Now, it's time to see how the data clusters in the principal components space. In this substep, you will apply k-means clustering to the dataset and use the average within-cluster distances from each point to their assigned cluster's centroid to decide on a number of clusters to keep.\n",
    "\n",
    "- Use sklearn's [KMeans](http://scikit-learn.org/stable/modules/generated/sklearn.cluster.KMeans.html#sklearn.cluster.KMeans) class to perform k-means clustering on the PCA-transformed data.\n",
    "- Then, compute the average difference from each point to its assigned cluster's center. **Hint**: The KMeans object's `.score()` method might be useful here, but note that in sklearn, scores tend to be defined so that larger is better. Try applying it to a small, toy dataset, or use an internet search to help your understanding.\n",
    "- Perform the above two steps for a number of different cluster counts. You can then see how the average distance decreases with an increasing number of clusters. However, each additional cluster provides a smaller net benefit. Use this fact to select a final number of clusters in which to group the data. **Warning**: because of the large size of the dataset, it can take a long time for the algorithm to resolve. The more clusters to fit, the longer the algorithm will take. You should test for cluster counts through at least 10 clusters to get the full picture, but you shouldn't need to test for a number of clusters above about 30.\n",
    "- Once you've selected a final number of clusters to use, re-fit a KMeans instance to perform the clustering operation. Make sure that you also obtain the cluster assignments for the general demographics data, since you'll be using them in the final Step 3.3."
   ]
  },
  {
   "cell_type": "code",
   "execution_count": 81,
   "metadata": {},
   "outputs": [],
   "source": [
    "# Over a number of different cluster counts...\n",
    "# run k-means clustering on the data and...\n",
    "# compute the average within-cluster distances.\n",
    "\n",
    "from sklearn.cluster import MiniBatchKMeans\n",
    "\n",
    "def run_kmeans(data_pca, n_k):   \n",
    "    scores = []\n",
    "    k = []\n",
    "    for i in range(1,n_k+1):\n",
    "        model = MiniBatchKMeans(n_clusters=i)\n",
    "        fit_model = model.fit(data_pca)\n",
    "        score = fit_model.score(data_pca)\n",
    "        scores.append(abs(score))\n",
    "        k.append(i)\n",
    "\n",
    "    return k, scores\n",
    "\n",
    "k, scores = run_kmeans(azdias_pca, 25)\n"
   ]
  },
  {
   "cell_type": "code",
   "execution_count": 82,
   "metadata": {},
   "outputs": [
    {
     "data": {
      "text/plain": [
       "[<matplotlib.lines.Line2D at 0x7fd02d2f96d8>]"
      ]
     },
     "execution_count": 82,
     "metadata": {},
     "output_type": "execute_result"
    },
    {
     "data": {
      "image/png": "[encoded data removed]",
      "text/plain": [
       "<matplotlib.figure.Figure at 0x7fd02d2201d0>"
      ]
     },
     "metadata": {
      "needs_background": "light"
     },
     "output_type": "display_data"
    }
   ],
   "source": [
    "# Investigate the change in within-cluster distance across number of clusters.\n",
    "# HINT: Use matplotlib's plot function to visualize this relationship.\n",
    "\n",
    "plt.plot(k, scores)"
   ]
  },
  {
   "cell_type": "code",
   "execution_count": 84,
   "metadata": {},
   "outputs": [],
   "source": [
    "# Re-fit the k-means model with the selected number of clusters and obtain\n",
    "# cluster predictions for the general population demographics data.\n",
    "\n",
    "\n",
    "model = MiniBatchKMeans(20, random_state=42)\n",
    "model = model.fit(azdias_pca)\n",
    "gen_predict = model.predict(azdias_pca)\n"
   ]
  },
  {
   "cell_type": "code",
   "execution_count": 85,
   "metadata": {},
   "outputs": [
    {
     "data": {
      "text/plain": [
       "array([ 7,  5,  9, ..., 18,  1,  2], dtype=int32)"
      ]
     },
     "execution_count": 85,
     "metadata": {},
     "output_type": "execute_result"
    }
   ],
   "source": [
    "gen_predict"
   ]
  },
  {
   "cell_type": "markdown",
   "metadata": {},
   "source": [
    "### Discussion 3.1: Apply Clustering to General Population\n",
    "\n",
    "I ran upto 25 clusters and it looks like the score (distances) improvement starts being plateaued around at 20 runs. Even though there is slight improvement in scores up to 25, I decided to go with 20 clusters because that would be more manageable number of clusters for actual data grouping and analyses. I re-fitted the k-means model and made predictions for the general population demographics data.."
   ]
  },
  {
   "cell_type": "markdown",
   "metadata": {},
   "source": [
    "### Step 3.2: Apply All Steps to the Customer Data\n",
    "\n",
    "Now that you have clusters and cluster centers for the general population, it's time to see how the customer data maps on to those clusters. Take care to not confuse this for re-fitting all of the models to the customer data. Instead, you're going to use the fits from the general population to clean, transform, and cluster the customer data. In the last step of the project, you will interpret how the general population fits apply to the customer data.\n",
    "\n",
    "- Don't forget when loading in the customers data, that it is semicolon (`;`) delimited.\n",
    "- Apply the same feature wrangling, selection, and engineering steps to the customer demographics using the `clean_data()` function you created earlier. (You can assume that the customer demographics data has similar meaning behind missing data patterns as the general demographics data.)\n",
    "- Use the sklearn objects from the general demographics data, and apply their transformations to the customers data. That is, you should not be using a `.fit()` or `.fit_transform()` method to re-fit the old objects, nor should you be creating new sklearn objects! Carry the data through the feature scaling, PCA, and clustering steps, obtaining cluster assignments for all of the data in the customer demographics data."
   ]
  },
  {
   "cell_type": "code",
   "execution_count": 88,
   "metadata": {},
   "outputs": [
    {
     "data": {
      "text/plain": [
       "(191652, 85)"
      ]
     },
     "execution_count": 88,
     "metadata": {},
     "output_type": "execute_result"
    }
   ],
   "source": [
    "# Load in the customer demographics data.\n",
    "customers = pd.read_csv('./Udacity_CUSTOMERS_Subset.csv', sep=';')\n",
    "customers.shape"
   ]
  },
  {
   "cell_type": "code",
   "execution_count": 89,
   "metadata": {},
   "outputs": [
    {
     "data": {
      "text/plain": [
       "(141701, 81)"
      ]
     },
     "execution_count": 89,
     "metadata": {},
     "output_type": "execute_result"
    }
   ],
   "source": [
    "# Apply preprocessing and feature transformation.\n",
    "\n",
    "customers_clean = clean_data(customers)\n",
    "customers_clean.shape"
   ]
  },
  {
   "cell_type": "code",
   "execution_count": 92,
   "metadata": {},
   "outputs": [],
   "source": [
    "# Impute the remaining NaNs in the customers data.\n",
    "\n",
    "customers_impute = imputer.transform(customers_clean)\n",
    "\n",
    "index = customers_clean.index\n",
    "features = customers_clean.columns\n",
    "\n",
    "customers_clean = pd.DataFrame(customers_impute, index=index, columns=features)"
   ]
  },
  {
   "cell_type": "code",
   "execution_count": 95,
   "metadata": {},
   "outputs": [],
   "source": [
    "# Scale the customers data.\n",
    "\n",
    "customers_scaled = scaler.transform(customers_clean)"
   ]
  },
  {
   "cell_type": "code",
   "execution_count": 96,
   "metadata": {},
   "outputs": [],
   "source": [
    "# Apply clustering from the general demographics onto the customers.\n",
    "# Obtain cluster predictions for the customer demographics data.\n",
    "\n",
    "customers_pca = pca.transform(customers_scaled)\n",
    "cust_predict = model.predict(customers_pca)"
   ]
  },
  {
   "cell_type": "code",
   "execution_count": 97,
   "metadata": {},
   "outputs": [
    {
     "data": {
      "text/plain": [
       "array([ 8,  3,  9, ...,  8,  5, 16], dtype=int32)"
      ]
     },
     "execution_count": 97,
     "metadata": {},
     "output_type": "execute_result"
    }
   ],
   "source": [
    "cust_predict"
   ]
  },
  {
   "cell_type": "markdown",
   "metadata": {},
   "source": [
    "### Step 3.3: Compare Customer Data to Demographics Data\n",
    "\n",
    "At this point, you have clustered data based on demographics of the general population of Germany, and seen how the customer data for a mail-order sales company maps onto those demographic clusters. In this final substep, you will compare the two cluster distributions to see where the strongest customer base for the company is.\n",
    "\n",
    "Consider the proportion of persons in each cluster for the general population, and the proportions for the customers. If we think the company's customer base to be universal, then the cluster assignment proportions should be fairly similar between the two. If there are only particular segments of the population that are interested in the company's products, then we should see a mismatch from one to the other. If there is a higher proportion of persons in a cluster for the customer data compared to the general population (e.g. 5% of persons are assigned to a cluster for the general population, but 15% of the customer data is closest to that cluster's centroid) then that suggests the people in that cluster to be a target audience for the company. On the other hand, the proportion of the data in a cluster being larger in the general population than the customer data (e.g. only 2% of customers closest to a population centroid that captures 6% of the data) suggests that group of persons to be outside of the target demographics.\n",
    "\n",
    "Take a look at the following points in this step:\n",
    "\n",
    "- Compute the proportion of data points in each cluster for the general population and the customer data. Visualizations will be useful here: both for the individual dataset proportions, but also to visualize the ratios in cluster representation between groups. Seaborn's [`countplot()`](https://seaborn.pydata.org/generated/seaborn.countplot.html) or [`barplot()`](https://seaborn.pydata.org/generated/seaborn.barplot.html) function could be handy.\n",
    "  - Recall the analysis you performed in step 1.1.3 of the project, where you separated out certain data points from the dataset if they had more than a specified threshold of missing values. If you found that this group was qualitatively different from the main bulk of the data, you should treat this as an additional data cluster in this analysis. Make sure that you account for the number of data points in this subset, for both the general population and customer datasets, when making your computations!\n",
    "- Which cluster or clusters are overrepresented in the customer dataset compared to the general population? Select at least one such cluster and infer what kind of people might be represented by that cluster. Use the principal component interpretations from step 2.3 or look at additional components to help you make this inference. Alternatively, you can use the `.inverse_transform()` method of the PCA and StandardScaler objects to transform centroids back to the original data space and interpret the retrieved values directly.\n",
    "- Perform a similar investigation for the underrepresented clusters. Which cluster or clusters are underrepresented in the customer dataset compared to the general population, and what kinds of people are typified by these clusters?"
   ]
  },
  {
   "cell_type": "code",
   "execution_count": 98,
   "metadata": {},
   "outputs": [],
   "source": [
    "gen_unique, gen_counts = np.unique(gen_predict, return_counts=True)\n",
    "gen_ratios = np.round(gen_counts/sum(gen_counts), 3)*100\n",
    "\n",
    "cust_unique, cust_counts = np.unique(cust_predict, return_counts=True)\n",
    "cust_ratios = np.round(cust_counts/sum(cust_counts), 3)*100\n"
   ]
  },
  {
   "cell_type": "code",
   "execution_count": 99,
   "metadata": {},
   "outputs": [
    {
     "data": {
      "text/html": [
       "<div>\n",
       "<style scoped>\n",
       "    .dataframe tbody tr th:only-of-type {\n",
       "        vertical-align: middle;\n",
       "    }\n",
       "\n",
       "    .dataframe tbody tr th {\n",
       "        vertical-align: top;\n",
       "    }\n",
       "\n",
       "    .dataframe thead th {\n",
       "        text-align: right;\n",
       "    }\n",
       "</style>\n",
       "<table border=\"1\" class=\"dataframe\">\n",
       "  <thead>\n",
       "    <tr style=\"text-align: right;\">\n",
       "      <th></th>\n",
       "      <th>gen_ratios</th>\n",
       "      <th>cust_ratios</th>\n",
       "      <th>cust/gen ratios</th>\n",
       "    </tr>\n",
       "  </thead>\n",
       "  <tbody>\n",
       "    <tr>\n",
       "      <th>0</th>\n",
       "      <td>1.9</td>\n",
       "      <td>1.6</td>\n",
       "      <td>0.842105</td>\n",
       "    </tr>\n",
       "    <tr>\n",
       "      <th>1</th>\n",
       "      <td>6.7</td>\n",
       "      <td>0.6</td>\n",
       "      <td>0.089552</td>\n",
       "    </tr>\n",
       "    <tr>\n",
       "      <th>2</th>\n",
       "      <td>7.7</td>\n",
       "      <td>7.4</td>\n",
       "      <td>0.961039</td>\n",
       "    </tr>\n",
       "    <tr>\n",
       "      <th>3</th>\n",
       "      <td>4.1</td>\n",
       "      <td>9.4</td>\n",
       "      <td>2.292683</td>\n",
       "    </tr>\n",
       "    <tr>\n",
       "      <th>4</th>\n",
       "      <td>5.9</td>\n",
       "      <td>2.2</td>\n",
       "      <td>0.372881</td>\n",
       "    </tr>\n",
       "  </tbody>\n",
       "</table>\n",
       "</div>"
      ],
      "text/plain": [
       "   gen_ratios  cust_ratios  cust/gen ratios\n",
       "0         1.9          1.6         0.842105\n",
       "1         6.7          0.6         0.089552\n",
       "2         7.7          7.4         0.961039\n",
       "3         4.1          9.4         2.292683\n",
       "4         5.9          2.2         0.372881"
      ]
     },
     "execution_count": 99,
     "metadata": {},
     "output_type": "execute_result"
    }
   ],
   "source": [
    "ratios = pd.DataFrame({'gen_ratios':gen_ratios, 'cust_ratios':cust_ratios,\\\n",
    "                       'cust/gen ratios': cust_ratios/gen_ratios}, \\\n",
    "                       index=cust_unique)                    \n",
    "ratios.head()"
   ]
  },
  {
   "cell_type": "code",
   "execution_count": 101,
   "metadata": {},
   "outputs": [
    {
     "data": {
      "text/plain": [
       "Text(0.5,0,'Clusters')"
      ]
     },
     "execution_count": 101,
     "metadata": {},
     "output_type": "execute_result"
    },
    {
     "data": {
      "image/png": "[encoded data removed]",
      "text/plain": [
       "<matplotlib.figure.Figure at 0x7fd024daa320>"
      ]
     },
     "metadata": {
      "needs_background": "light"
     },
     "output_type": "display_data"
    }
   ],
   "source": [
    "# Compare the proportion of data in each cluster for the customer data to the\n",
    "# proportion of data in each cluster for the general population.\n",
    "\n",
    "fig, (ax1, ax2) = plt.subplots(1, 2, figsize=(12,5))\n",
    "sns.barplot(x=gen_unique, y=gen_ratios, ax=ax1, orient='v')\n",
    "sns.barplot(x=cust_unique, y=cust_ratios, ax=ax2, orient='v')\n",
    "\n",
    "ax1.set_title('General Population Clusters')\n",
    "ax2.set_title('Customers Data Clusters')\n",
    "ax1.set(ylim=(0, 30))\n",
    "ax2.set(ylim=(0, 30))\n",
    "ax1.set_ylabel('Count Ratios')\n",
    "ax1.set_xlabel('Clusters')\n",
    "ax2.set_ylabel('Count Ratios')\n",
    "ax2.set_xlabel('Clusters')"
   ]
  },
  {
   "cell_type": "markdown",
   "metadata": {},
   "source": [
    "A quick visual inspection shows that Clusters #8 and #9 are definitely overrepresented while Clusters #1, #7, and #18 are underrepresented groups of customers compared to the general population."
   ]
  },
  {
   "cell_type": "code",
   "execution_count": 102,
   "metadata": {},
   "outputs": [
    {
     "data": {
      "text/html": [
       "<div>\n",
       "<style scoped>\n",
       "    .dataframe tbody tr th:only-of-type {\n",
       "        vertical-align: middle;\n",
       "    }\n",
       "\n",
       "    .dataframe tbody tr th {\n",
       "        vertical-align: top;\n",
       "    }\n",
       "\n",
       "    .dataframe thead th {\n",
       "        text-align: right;\n",
       "    }\n",
       "</style>\n",
       "<table border=\"1\" class=\"dataframe\">\n",
       "  <thead>\n",
       "    <tr style=\"text-align: right;\">\n",
       "      <th></th>\n",
       "      <th>gen_ratios</th>\n",
       "      <th>cust_ratios</th>\n",
       "      <th>cust/gen ratios</th>\n",
       "    </tr>\n",
       "  </thead>\n",
       "  <tbody>\n",
       "    <tr>\n",
       "      <th>8</th>\n",
       "      <td>4.5</td>\n",
       "      <td>26.5</td>\n",
       "      <td>5.888889</td>\n",
       "    </tr>\n",
       "    <tr>\n",
       "      <th>3</th>\n",
       "      <td>4.1</td>\n",
       "      <td>9.4</td>\n",
       "      <td>2.292683</td>\n",
       "    </tr>\n",
       "    <tr>\n",
       "      <th>9</th>\n",
       "      <td>7.8</td>\n",
       "      <td>16.1</td>\n",
       "      <td>2.064103</td>\n",
       "    </tr>\n",
       "    <tr>\n",
       "      <th>17</th>\n",
       "      <td>4.0</td>\n",
       "      <td>8.0</td>\n",
       "      <td>2.000000</td>\n",
       "    </tr>\n",
       "    <tr>\n",
       "      <th>16</th>\n",
       "      <td>2.7</td>\n",
       "      <td>3.6</td>\n",
       "      <td>1.333333</td>\n",
       "    </tr>\n",
       "    <tr>\n",
       "      <th>15</th>\n",
       "      <td>7.4</td>\n",
       "      <td>8.0</td>\n",
       "      <td>1.081081</td>\n",
       "    </tr>\n",
       "  </tbody>\n",
       "</table>\n",
       "</div>"
      ],
      "text/plain": [
       "    gen_ratios  cust_ratios  cust/gen ratios\n",
       "8          4.5         26.5         5.888889\n",
       "3          4.1          9.4         2.292683\n",
       "9          7.8         16.1         2.064103\n",
       "17         4.0          8.0         2.000000\n",
       "16         2.7          3.6         1.333333\n",
       "15         7.4          8.0         1.081081"
      ]
     },
     "execution_count": 102,
     "metadata": {},
     "output_type": "execute_result"
    }
   ],
   "source": [
    "# What kinds of people are part of a cluster that is overrepresented in the\n",
    "# customer data compared to the general population?\n",
    "\n",
    "over_rep_clusters = ratios[ratios['cust/gen ratios'] > 1]\n",
    "over_rep_clusters.sort_values('cust/gen ratios', ascending=False)"
   ]
  },
  {
   "cell_type": "markdown",
   "metadata": {},
   "source": [
    "Considerting both the difference ratios and magnitude, Cluster #8 seems to be the most overrepresented group from the customers dataset. Cluster #9 looks interesting as well.  "
   ]
  },
  {
   "cell_type": "code",
   "execution_count": 103,
   "metadata": {},
   "outputs": [],
   "source": [
    "# The most important features identifeid in Step 2.3 (PCA's 1-3)\n",
    "# Include both positive and negative top values from 3 PC's.\n",
    "\n",
    "important_features = ['LP_STATUS_GROB_1.0','PLZ8_ANTG3','FINANZ_MINIMALIST',\\\n",
    "                      'KBA05_ANTG1','MOBI_REGIO','ALTERSKATEGORIE_GROB',\\\n",
    "                      'SEMIO_ERL','FINANZ_VORSORGER','FINANZ_SPARER',\\\n",
    "                      'PRAEGENDE_JUGENDJAHRE_Decade','SEMIO_REL','SEMIO_VERT',\\\n",
    "                      'SEMIO_SOZ','SEMIO_FAM','SEMIO_KRIT','SEMIO_DOM',\\\n",
    "                      'SEMIO_KAEM','ANREDE_KZ']"
   ]
  },
  {
   "cell_type": "code",
   "execution_count": 104,
   "metadata": {},
   "outputs": [
    {
     "data": {
      "text/plain": [
       "Text(0.5,1,'Estimated Age Groups')"
      ]
     },
     "execution_count": 104,
     "metadata": {},
     "output_type": "execute_result"
    },
    {
     "data": {
      "image/png": "[encoded data removed]",
      "text/plain": [
       "<matplotlib.figure.Figure at 0x7fd00bb46f28>"
      ]
     },
     "metadata": {
      "needs_background": "light"
     },
     "output_type": "display_data"
    },
    {
     "data": {
      "text/plain": [
       "<matplotlib.figure.Figure at 0x7fd00bb46630>"
      ]
     },
     "metadata": {},
     "output_type": "display_data"
    }
   ],
   "source": [
    "# Analyze the distributions for some of the important features. \n",
    "\n",
    "fig, axs = plt.subplots(4, 2, figsize=(15,30))\n",
    "plt.figure(figsize=(30,10))\n",
    "\n",
    "axs[0,0].hist(customers_clean['SEMIO_VERT'])\n",
    "axs[0,0].set_title('Dreamful Affinity')\n",
    "axs[0,1].hist(customers_clean['FINANZ_MINIMALIST'])\n",
    "axs[0,1].set_title('Low Financial Interest')\n",
    "\n",
    "axs[1,0].hist(customers_clean['FINANZ_VORSORGER'])\n",
    "axs[1,0].set_title('Be Prepared')\n",
    "axs[1,1].hist(customers_clean['SEMIO_SOZ'])\n",
    "axs[1,1].set_title('Socially-Minded')\n",
    "\n",
    "axs[2,0].hist(customers_clean['MOBI_REGIO'])\n",
    "axs[2,0].set_title('Movement Pattern')\n",
    "axs[2,1].hist(customers_clean['SEMIO_FAM'])\n",
    "axs[2,1].set_title(\"Family-Minded\")\n",
    "\n",
    "axs[3,0].hist(customers_clean['SEMIO_ERL'])\n",
    "axs[3,0].set_title('Event-Oriented')\n",
    "axs[3,1].hist(customers_clean['ALTERSKATEGORIE_GROB'])\n",
    "axs[3,1].set_title('Estimated Age Groups')\n"
   ]
  },
  {
   "cell_type": "code",
   "execution_count": 110,
   "metadata": {},
   "outputs": [
    {
     "data": {
      "text/plain": [
       "SEMIO_VERT                      6.558171\n",
       "FINANZ_MINIMALIST               4.831287\n",
       "SEMIO_SOZ                       4.809235\n",
       "SEMIO_FAM                       4.753322\n",
       "FINANZ_VORSORGER                4.673876\n",
       "MOBI_REGIO                      4.087103\n",
       "SEMIO_ERL                       4.055411\n",
       "ALTERSKATEGORIE_GROB            3.596669\n",
       "SEMIO_REL                       3.528976\n",
       "PRAEGENDE_JUGENDJAHRE_Decade    3.073688\n",
       "dtype: float64"
      ]
     },
     "execution_count": 110,
     "metadata": {},
     "output_type": "execute_result"
    }
   ],
   "source": [
    "cluster_cent = scaler.inverse_transform(pca.inverse_transform(model.cluster_centers_))\n",
    "\n",
    "feat_val_over = pd.Series(cluster_cent[8], index=customers_clean.columns)\n",
    "feat_val_over[important_features].sort_values(ascending=False)[:10]"
   ]
  },
  {
   "cell_type": "markdown",
   "metadata": {},
   "source": [
    "Among the important features identified by PCA, SEMIO_VERT (dreamful affinity), FINANZ_MINIMALIST (low financial interest), SEMIO_SOZ (socially-minded), SEMIO_FAM (family-minded) and FINANZ_VORSORGER (be prepared) have the top 5 weights for Cluster #8. This means these features explain a lot about the people in Cluster #8. \n",
    "\n",
    "Looking at the distribution profiles of these features (graphs above) in the customers dataset, and reviewing the value discriptions from the Data Dictionary, the people in this cluster tend to be:\n",
    "not so much 'dreamful', very low affinity for 'low financial interest', average to low on 'socially-minded', more of average on 'family-minded', and not so much 'financially prepared'.   "
   ]
  },
  {
   "cell_type": "code",
   "execution_count": 108,
   "metadata": {},
   "outputs": [
    {
     "data": {
      "text/html": [
       "<div>\n",
       "<style scoped>\n",
       "    .dataframe tbody tr th:only-of-type {\n",
       "        vertical-align: middle;\n",
       "    }\n",
       "\n",
       "    .dataframe tbody tr th {\n",
       "        vertical-align: top;\n",
       "    }\n",
       "\n",
       "    .dataframe thead th {\n",
       "        text-align: right;\n",
       "    }\n",
       "</style>\n",
       "<table border=\"1\" class=\"dataframe\">\n",
       "  <thead>\n",
       "    <tr style=\"text-align: right;\">\n",
       "      <th></th>\n",
       "      <th>gen_ratios</th>\n",
       "      <th>cust_ratios</th>\n",
       "      <th>cust/gen ratios</th>\n",
       "    </tr>\n",
       "  </thead>\n",
       "  <tbody>\n",
       "    <tr>\n",
       "      <th>18</th>\n",
       "      <td>7.9</td>\n",
       "      <td>0.6</td>\n",
       "      <td>0.075949</td>\n",
       "    </tr>\n",
       "    <tr>\n",
       "      <th>1</th>\n",
       "      <td>6.7</td>\n",
       "      <td>0.6</td>\n",
       "      <td>0.089552</td>\n",
       "    </tr>\n",
       "    <tr>\n",
       "      <th>7</th>\n",
       "      <td>7.8</td>\n",
       "      <td>0.7</td>\n",
       "      <td>0.089744</td>\n",
       "    </tr>\n",
       "    <tr>\n",
       "      <th>12</th>\n",
       "      <td>5.8</td>\n",
       "      <td>0.8</td>\n",
       "      <td>0.137931</td>\n",
       "    </tr>\n",
       "    <tr>\n",
       "      <th>19</th>\n",
       "      <td>0.3</td>\n",
       "      <td>0.1</td>\n",
       "      <td>0.333333</td>\n",
       "    </tr>\n",
       "  </tbody>\n",
       "</table>\n",
       "</div>"
      ],
      "text/plain": [
       "    gen_ratios  cust_ratios  cust/gen ratios\n",
       "18         7.9          0.6         0.075949\n",
       "1          6.7          0.6         0.089552\n",
       "7          7.8          0.7         0.089744\n",
       "12         5.8          0.8         0.137931\n",
       "19         0.3          0.1         0.333333"
      ]
     },
     "execution_count": 108,
     "metadata": {},
     "output_type": "execute_result"
    }
   ],
   "source": [
    "# What kinds of people are part of a cluster that is underrepresented in the\n",
    "# customer data compared to the general population?\n",
    "\n",
    "under_rep_clusters = ratios[ratios['cust/gen ratios'] < 1]\n",
    "under_rep_clusters.sort_values('cust/gen ratios', ascending=True).head(5)"
   ]
  },
  {
   "cell_type": "code",
   "execution_count": 112,
   "metadata": {},
   "outputs": [
    {
     "data": {
      "text/plain": [
       "SEMIO_DOM                       6.224753\n",
       "SEMIO_KAEM                      5.772490\n",
       "PRAEGENDE_JUGENDJAHRE_Decade    5.640777\n",
       "SEMIO_KRIT                      5.555391\n",
       "SEMIO_REL                       5.415441\n",
       "FINANZ_SPARER                   4.205578\n",
       "SEMIO_ERL                       4.165040\n",
       "SEMIO_FAM                       3.884267\n",
       "MOBI_REGIO                      2.977844\n",
       "SEMIO_SOZ                       2.572047\n",
       "dtype: float64"
      ]
     },
     "execution_count": 112,
     "metadata": {},
     "output_type": "execute_result"
    }
   ],
   "source": [
    "feat_val_under = pd.Series(cluster_cent[18], index=customers_clean.columns)\n",
    "feat_val_under[important_features].sort_values(ascending=False)[:10]"
   ]
  },
  {
   "cell_type": "code",
   "execution_count": 113,
   "metadata": {},
   "outputs": [
    {
     "data": {
      "text/plain": [
       "Text(0.5,1,'Critical-Minded')"
      ]
     },
     "execution_count": 113,
     "metadata": {},
     "output_type": "execute_result"
    },
    {
     "data": {
      "image/png": "[encoded data removed]",
      "text/plain": [
       "<matplotlib.figure.Figure at 0x7fd00ba88828>"
      ]
     },
     "metadata": {
      "needs_background": "light"
     },
     "output_type": "display_data"
    },
    {
     "data": {
      "text/plain": [
       "<matplotlib.figure.Figure at 0x7fd00b6830f0>"
      ]
     },
     "metadata": {},
     "output_type": "display_data"
    }
   ],
   "source": [
    "fig, axs = plt.subplots(2, 2, figsize=(15,15))\n",
    "plt.figure(figsize=(30,10))\n",
    "\n",
    "axs[0,0].hist(customers_clean['PRAEGENDE_JUGENDJAHRE_Decade'])\n",
    "axs[0,0].set_title('Age by Decade')\n",
    "axs[0,1].hist(customers_clean['SEMIO_DOM'])\n",
    "axs[0,1].set_title('Dominent-Minded')\n",
    "\n",
    "axs[1,0].hist(customers_clean['SEMIO_KAEM'])\n",
    "axs[1,0].set_title('Combative Attitude')\n",
    "axs[1,1].hist(customers_clean['SEMIO_KRIT'])\n",
    "axs[1,1].set_title('Critical-Minded')\n"
   ]
  },
  {
   "cell_type": "markdown",
   "metadata": {},
   "source": [
    "People in Cluster #18 is the most underrepresented group from the customers dataset. These people can be inferred to be like:\n",
    "\n",
    "high 'combative attitude', high 'critical-minded', average to high 'dominant-minded', and most likely in their 50's, and also in 60's and 70's. "
   ]
  },
  {
   "cell_type": "markdown",
   "metadata": {},
   "source": [
    "### Discussion 3.3: Compare Customer Data to Demographics Data\n",
    "\n",
    "Those featuers identifed as important by PCA indeed showed up as top features Cluster #8 (the most overrepresented group from customers dataset) and #18 (the most underrepresented group from customers dataset). Based on these features and its value distributions, these two groups definitely could be distinguished from each other. For the mail-order company, the target potential customers should be the people in Cluster #8 and they are not so dreamful, more of average on both 'socially-minded' and 'family-minded', and not necessarily a financially well prepared type. \n",
    "\n",
    "The segment that the company should avoid marketing to is charaterized as critical-minded, highly combative, dominant-minded group and mostly in their 50's or older. "
   ]
  },
  {
   "cell_type": "markdown",
   "metadata": {},
   "source": [
    "> Congratulations on making it this far in the project! Before you finish, make sure to check through the entire notebook from top to bottom to make sure that your analysis follows a logical flow and all of your findings are documented in **Discussion** cells. Once you've checked over all of your work, you should export the notebook as an HTML document to submit for evaluation. You can do this from the menu, navigating to **File -> Download as -> HTML (.html)**. You will submit both that document and this notebook for your project submission."
   ]
  },
  {
   "cell_type": "code",
   "execution_count": null,
   "metadata": {},
   "outputs": [],
   "source": []
  }
 ],
 "metadata": {
  "kernelspec": {
   "display_name": "Python 3",
   "language": "python",
   "name": "python3"
  },
  "language_info": {
   "codemirror_mode": {
    "name": "ipython",
    "version": 3
   },
   "file_extension": ".py",
   "mimetype": "text/x-python",
   "name": "python",
   "nbconvert_exporter": "python",
   "pygments_lexer": "ipython3",
   "version": "3.6.3"
  }
 },
 "nbformat": 4,
 "nbformat_minor": 2
}
